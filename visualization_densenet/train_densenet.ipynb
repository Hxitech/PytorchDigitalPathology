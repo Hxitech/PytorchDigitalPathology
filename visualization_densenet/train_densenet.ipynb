{
 "cells": [
  {
   "cell_type": "code",
   "execution_count": 1,
   "metadata": {},
   "outputs": [],
   "source": [
    "dataname=\"synthetic\"\n",
    "gpuid=0\n",
    "\n",
    "# --- densenet params\n",
    "#these parameters get fed directly into the densenet class, and more description of them can be discovered there\n",
    "n_classes= 2    #number of classes in the data mask that we'll aim to predict\n",
    "in_channels= 3  #input channel of the data, RGB = 3\n",
    "\n",
    "\n",
    "growth_rate=8 \n",
    "block_config=(4, 4, 4, 4)\n",
    "num_init_features=2\n",
    "bn_size=4\n",
    "drop_rate=0\n",
    "\n",
    "\n",
    "\n",
    "# --- training params\n",
    "batch_size=64\n",
    "patch_size=224 #currently, this needs to be 224 due to densenet architecture\n",
    "num_epochs = 100\n",
    "phases = [\"train\",\"val\"] #how many phases did we create databases for?\n",
    "validation_phases= [\"val\"] #when should we do valiation? note that validation is *very* time consuming, so as opposed to doing for both training and validation, we do it only for vlaidation at the end of the epoch\n",
    "                           #additionally, using simply [], will skip validation entirely, drastically speeding things up"
   ]
  },
  {
   "cell_type": "code",
   "execution_count": 2,
   "metadata": {},
   "outputs": [],
   "source": [
    "import time\n",
    "import math\n",
    "import tables\n",
    "\n",
    "import numpy as np\n",
    "import matplotlib.pyplot as plt\n",
    "\n",
    "from sklearn.metrics import confusion_matrix\n",
    "\n",
    "import torch\n",
    "from torch.utils.data import DataLoader\n",
    "from torchvision import transforms\n",
    "from torchvision.models import DenseNet\n",
    "\n",
    "from tensorboardX import SummaryWriter"
   ]
  },
  {
   "cell_type": "code",
   "execution_count": 3,
   "metadata": {},
   "outputs": [],
   "source": [
    "#helper function for pretty printing of current time and remaining time\n",
    "def asMinutes(s):\n",
    "    m = math.floor(s / 60)\n",
    "    s -= m * 60\n",
    "    return '%dm %ds' % (m, s)\n",
    "def timeSince(since, percent):\n",
    "    now = time.time()\n",
    "    s = now - since\n",
    "    es = s / (percent+.00001)\n",
    "    rs = es - s\n",
    "    return '%s (- %s)' % (asMinutes(s), asMinutes(rs))"
   ]
  },
  {
   "cell_type": "code",
   "execution_count": 4,
   "metadata": {},
   "outputs": [
    {
     "name": "stdout",
     "output_type": "stream",
     "text": [
      "_CudaDeviceProperties(name='Quadro M2200', major=5, minor=2, total_memory=4096MB, multi_processor_count=8)\n"
     ]
    }
   ],
   "source": [
    "#specify if we should use a GPU (cuda) or only the CPU\n",
    "print(torch.cuda.get_device_properties(gpuid))\n",
    "torch.cuda.set_device(gpuid)\n",
    "device = torch.device(f'cuda:{gpuid}' if torch.cuda.is_available() else 'cpu')"
   ]
  },
  {
   "cell_type": "code",
   "execution_count": null,
   "metadata": {
    "scrolled": false
   },
   "outputs": [
    {
     "name": "stderr",
     "output_type": "stream",
     "text": [
      "c:\\python37\\lib\\site-packages\\torchvision\\models\\densenet.py:212: UserWarning: nn.init.kaiming_normal is now deprecated in favor of nn.init.kaiming_normal_.\n",
      "  nn.init.kaiming_normal(m.weight.data)\n"
     ]
    },
    {
     "name": "stdout",
     "output_type": "stream",
     "text": [
      "total params: \t58212\n"
     ]
    }
   ],
   "source": [
    "#build the model according to the paramters specified above and copy it to the GPU. finally print out the number of trainable parameters\n",
    " \n",
    "model = DenseNet(growth_rate=growth_rate, block_config=block_config,\n",
    "                 num_init_features=num_init_features, bn_size=bn_size, drop_rate=drop_rate, num_classes=n_classes).to(device)\n",
    "\n",
    "print(f\"total params: \\t{sum([np.prod(p.size()) for p in model.parameters()])}\")"
   ]
  },
  {
   "cell_type": "code",
   "execution_count": null,
   "metadata": {},
   "outputs": [],
   "source": [
    "#this defines our dataset class which will be used by the dataloader\n",
    "class Dataset(object):\n",
    "    def __init__(self, fname ,img_transform=None):\n",
    "        #nothing special here, just internalizing the constructor parameters\n",
    "        self.fname=fname\n",
    "\n",
    "        self.img_transform=img_transform\n",
    "        \n",
    "        with tables.open_file(self.fname,'r') as db:\n",
    "            self.classsizes=db.root.classsizes[:]\n",
    "            self.nitems=db.root.imgs.shape[0]\n",
    "        \n",
    "        self.imgs = None\n",
    "        self.labels = None\n",
    "        \n",
    "    def __getitem__(self, index):\n",
    "        #opening should be done in __init__ but seems to be\n",
    "        #an issue with multithreading so doing here. need to do it everytime, otherwise hdf5 crashes\n",
    "\n",
    "        with tables.open_file(self.fname,'r') as db:\n",
    "            self.imgs=db.root.imgs\n",
    "            self.labels=db.root.labels\n",
    "\n",
    "            #get the requested image\n",
    "            img = self.imgs[index,::]\n",
    "            img = img[:,:,None].repeat(3,axis=2) #convert to 3 channel RGB\n",
    "            label = self.labels[index] \n",
    "        \n",
    "        img_new = img\n",
    "        \n",
    "        if self.img_transform is not None:\n",
    "            img_new = self.img_transform(img)\n",
    "\n",
    "        return img_new, label, img\n",
    "    def __len__(self):\n",
    "        return self.nitems"
   ]
  },
  {
   "cell_type": "code",
   "execution_count": null,
   "metadata": {},
   "outputs": [
    {
     "name": "stdout",
     "output_type": "stream",
     "text": [
      "train dataset size:\t10000\n",
      "val dataset size:\t100\n"
     ]
    }
   ],
   "source": [
    "img_transform = transforms.Compose([\n",
    "     transforms.ToPILImage(),\n",
    "    transforms.RandomVerticalFlip(),\n",
    "    transforms.RandomHorizontalFlip(),\n",
    "    transforms.RandomCrop(size=(patch_size,patch_size),pad_if_needed=True), #these need to be in a reproducible order, first affine transforms and then color\n",
    "    transforms.ToTensor()\n",
    "    ])\n",
    "\n",
    "\n",
    "dataset={}\n",
    "dataLoader={}\n",
    "for phase in phases: #now for each of the phases, we're creating the dataloader\n",
    "                     #interestingly, given the batch size, i've not seen any improvements from using a num_workers>0\n",
    "    \n",
    "    dataset[phase]=Dataset(f\"./{dataname}_{phase}.pytable\", img_transform=img_transform)\n",
    "    dataLoader[phase]=DataLoader(dataset[phase], batch_size=256, \n",
    "                                shuffle=True, num_workers=0,pin_memory=True) \n",
    "    print(f\"{phase} dataset size:\\t{len(dataset[phase])}\")\n",
    "\n"
   ]
  },
  {
   "cell_type": "code",
   "execution_count": null,
   "metadata": {},
   "outputs": [
    {
     "name": "stdout",
     "output_type": "stream",
     "text": [
      "1\n"
     ]
    },
    {
     "data": {
      "image/png": "[encoded data removed]",
      "text/plain": [
       "<Figure size 720x288 with 2 Axes>"
      ]
     },
     "metadata": {
      "needs_background": "light"
     },
     "output_type": "display_data"
    }
   ],
   "source": [
    "#visualize a single example to verify that it is correct\n",
    "(img, label, img_old)=dataset[\"train\"][24]\n",
    "fig, ax = plt.subplots(1,2, figsize=(10,4))  # 1 row, 2 columns\n",
    "\n",
    "#build output showing patch after augmentation and original patch\n",
    "ax[0].imshow(np.moveaxis(img.numpy(),0,-1))\n",
    "ax[1].imshow(img_old)\n",
    "\n",
    "print(label)"
   ]
  },
  {
   "cell_type": "code",
   "execution_count": null,
   "metadata": {},
   "outputs": [],
   "source": [
    "optim = torch.optim.Adam(model.parameters()) #adam is going to be the most robust, though perhaps not the best performing, typically a good place to start\n"
   ]
  },
  {
   "cell_type": "code",
   "execution_count": null,
   "metadata": {},
   "outputs": [
    {
     "name": "stdout",
     "output_type": "stream",
     "text": [
      "tensor([0.4907, 0.5093], device='cuda:0')\n"
     ]
    }
   ],
   "source": [
    "#we have the ability to weight individual classes, in this case we'll do so based on their presense in the trainingset\n",
    "#to avoid biasing any particular class\n",
    "nclasses = dataset[\"train\"].classsizes.shape[0]\n",
    "class_weight=dataset[\"train\"].classsizes\n",
    "class_weight = torch.from_numpy(1-class_weight/class_weight.sum()).type('torch.FloatTensor').to(device)\n",
    "\n",
    "print(class_weight) #show final used weights, make sure that they're reasonable before continouing\n",
    "criterion = torch.nn.CrossEntropyLoss(weight = class_weight) \n"
   ]
  },
  {
   "cell_type": "code",
   "execution_count": null,
   "metadata": {},
   "outputs": [],
   "source": [
    "%load_ext line_profiler\n",
    "#%lprun\n",
    "# %%prun"
   ]
  },
  {
   "cell_type": "code",
   "execution_count": null,
   "metadata": {},
   "outputs": [],
   "source": [
    "def trainnetwork():\n",
    "    writer=SummaryWriter() #open the tensorboard visualiser\n",
    "    best_loss_on_test = np.Infinity\n",
    "\n",
    "    start_time = time.time()\n",
    "    for epoch in range(num_epochs):\n",
    "        #zero out epoch based performance variables \n",
    "        all_acc = {key: 0 for key in phases} \n",
    "        all_loss = {key: torch.zeros(0).to(device) for key in phases} #keep this on GPU for greatly improved performance\n",
    "        cmatrix = {key: np.zeros((n_classes,n_classes)) for key in phases}\n",
    "\n",
    "        for phase in phases: #iterate through both training and validation states\n",
    "\n",
    "            if phase == 'train':\n",
    "                model.train()  # Set model to training mode\n",
    "            else: #when in eval mode, we don't want parameters to be updated\n",
    "                model.eval()   # Set model to evaluate mode\n",
    "\n",
    "            for ii , (X, label, img_orig) in enumerate(dataLoader[phase]): #for each of the batches\n",
    "                X = X.to(device)  # [Nbatch, 3, H, W]\n",
    "                label = label.type('torch.LongTensor').to(device)  # [Nbatch, 1] with class indices (0, 1, 2,...n_classes)\n",
    "\n",
    "                with torch.set_grad_enabled(phase == 'train'): #dynamically set gradient computation, in case of validation, this isn't needed\n",
    "                                                                #disabling is good practice and improves inference time\n",
    "\n",
    "                    prediction = model(X)  # [Nbatch, Nclass]\n",
    "                    loss = criterion(prediction, label)\n",
    "\n",
    "\n",
    "                    if phase==\"train\": #in case we're in train mode, need to do back propogation\n",
    "                        optim.zero_grad()\n",
    "                        loss.backward()\n",
    "                        optim.step()\n",
    "                        train_loss = loss\n",
    "\n",
    "\n",
    "                    all_loss[phase]=torch.cat((all_loss[phase],loss.detach().view(1,-1)))\n",
    "\n",
    "                    if phase in validation_phases: #if this phase is part of validation, compute confusion matrix\n",
    "                        p=prediction.detach().cpu().numpy()\n",
    "                        cpredflat=np.argmax(p,axis=1).flatten()\n",
    "                        yflat=label.cpu().numpy().flatten()\n",
    "\n",
    "                        cmatrix[phase]=cmatrix[phase]+confusion_matrix(yflat,cpredflat, labels=range(nclasses))\n",
    "\n",
    "            all_acc[phase]=(cmatrix[phase]/cmatrix[phase].sum()).trace()\n",
    "            all_loss[phase] = all_loss[phase].cpu().numpy().mean()\n",
    "\n",
    "            #save metrics to tensorboard\n",
    "            writer.add_scalar(f'{phase}/loss', all_loss[phase], epoch)\n",
    "            if phase in validation_phases:\n",
    "                writer.add_scalar(f'{phase}/acc', all_acc[phase], epoch)\n",
    "                for r in range(nclasses):\n",
    "                    for c in range(nclasses): #essentially write out confusion matrix\n",
    "                        writer.add_scalar(f'{phase}/{r}{c}', cmatrix[phase][r][c],epoch)\n",
    "\n",
    "        print('%s ([%d/%d] %d%%), train loss: %.4f test loss: %.4f' % (timeSince(start_time, (epoch+1) / num_epochs), \n",
    "                                                     epoch+1, num_epochs ,(epoch+1) / num_epochs * 100, all_loss[\"train\"], all_loss[\"val\"]),end=\"\")    \n",
    "\n",
    "        #if current loss is the best we've seen, save model state with all variables\n",
    "        #necessary for recreation\n",
    "        if all_loss[\"val\"] < best_loss_on_test:\n",
    "            best_loss_on_test = all_loss[\"val\"]\n",
    "            print(\"  **\")\n",
    "            state = {'epoch': epoch + 1,\n",
    "             'model_dict': model.state_dict(),\n",
    "             'optim_dict': optim.state_dict(),\n",
    "             'best_loss_on_test': all_loss,\n",
    "             'n_classes': n_classes,\n",
    "             'in_channels': in_channels,\n",
    "             'growth_rate':growth_rate,\n",
    "             'block_config':block_config,\n",
    "             'num_init_features':num_init_features,\n",
    "             'bn_size':bn_size,\n",
    "             'drop_rate':drop_rate}\n",
    "\n",
    "\n",
    "            torch.save(state, f\"{dataname}_densenet_best_model.pth\")\n",
    "        else:\n",
    "            print(\"\")\n"
   ]
  },
  {
   "cell_type": "code",
   "execution_count": null,
   "metadata": {},
   "outputs": [
    {
     "name": "stderr",
     "output_type": "stream",
     "text": [
      "c:\\python37\\lib\\site-packages\\ipykernel_launcher.py:46: RuntimeWarning: invalid value encountered in true_divide\n"
     ]
    },
    {
     "name": "stdout",
     "output_type": "stream",
     "text": [
      "1m 9s (- 115m 1s) ([1/100] 1%), train loss: 0.5159 test loss: 0.5040  **\n",
      "2m 22s (- 116m 30s) ([2/100] 2%), train loss: 0.1792 test loss: 2.1023\n",
      "3m 26s (- 111m 11s) ([3/100] 3%), train loss: 0.1012 test loss: 0.0906  **\n",
      "4m 30s (- 108m 16s) ([4/100] 4%), train loss: 0.0823 test loss: 0.0707  **\n",
      "5m 36s (- 106m 23s) ([5/100] 5%), train loss: 0.0743 test loss: 0.0574  **\n",
      "6m 40s (- 104m 41s) ([6/100] 6%), train loss: 0.0746 test loss: 0.1273\n",
      "7m 46s (- 103m 17s) ([7/100] 7%), train loss: 0.0649 test loss: 0.0692\n",
      "8m 51s (- 101m 47s) ([8/100] 8%), train loss: 0.0634 test loss: 0.1025\n",
      "9m 55s (- 100m 17s) ([9/100] 9%), train loss: 0.0635 test loss: 0.0672\n",
      "10m 59s (- 98m 58s) ([10/100] 10%), train loss: 0.0612 test loss: 0.0754\n",
      "12m 4s (- 97m 38s) ([11/100] 11%), train loss: 0.0677 test loss: 0.0297  **\n",
      "13m 9s (- 96m 28s) ([12/100] 12%), train loss: 0.0778 test loss: 0.1092\n",
      "14m 13s (- 95m 8s) ([13/100] 13%), train loss: 0.0592 test loss: 0.1299\n"
     ]
    }
   ],
   "source": [
    "#%load_ext line_profiler\n",
    "%lprun -f trainnetwork trainnetwork()"
   ]
  },
  {
   "cell_type": "code",
   "execution_count": null,
   "metadata": {},
   "outputs": [],
   "source": [
    "for ii , (X, label, img_orig) in enumerate(dataLoader[phase]):\n",
    "    print(ii)\n",
    "    X = X.to(device) "
   ]
  },
  {
   "cell_type": "code",
   "execution_count": null,
   "metadata": {},
   "outputs": [],
   "source": []
  }
 ],
 "metadata": {
  "kernelspec": {
   "display_name": "Python 3",
   "language": "python",
   "name": "python3"
  },
  "language_info": {
   "codemirror_mode": {
    "name": "ipython",
    "version": 3
   },
   "file_extension": ".py",
   "mimetype": "text/x-python",
   "name": "python",
   "nbconvert_exporter": "python",
   "pygments_lexer": "ipython3",
   "version": "3.7.1"
  }
 },
 "nbformat": 4,
 "nbformat_minor": 2
}
