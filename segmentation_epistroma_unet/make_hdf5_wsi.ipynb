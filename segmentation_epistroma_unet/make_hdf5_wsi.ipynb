{
 "cells": [
  {
   "cell_type": "code",
   "execution_count": 1,
   "metadata": {
    "ExecuteTime": {
     "end_time": "2020-05-06T20:00:00.514807Z",
     "start_time": "2020-05-06T20:00:00.502751Z"
    },
    "lines_to_next_cell": 2
   },
   "outputs": [],
   "source": [
    "#v2\n",
    "#7/11/2018\n",
    "\n",
    "dataname=\"pca_detect\"\n",
    "ignore_index = -1 #Unet has the possibility of masking out pixels in the output image, we can specify the index value here (though not used)\n",
    "\n",
    "desired_mask_mpp = 16.1 # what we would like to use for finding valid regions of the mask\n",
    "model_mpp = 2 # MPP of patches to be fed into model\n",
    "test_fraction = .2\n",
    "\n",
    "positive_class = 'green'\n",
    "negative_class = 'yellow'\n",
    "classes = [0,1]\n",
    "\n",
    "patch_size=300 #size of the tiles to extract and save in the database, must be >= to training size\n",
    "stride_size=150 #distance to skip between patches, 1 indicated pixel wise extraction, patch_size would result in non-overlapping tiles\n",
    "mirror_pad_size=0 # number of pixels to pad *after* resize to image with by mirroring (edge's of patches tend not to be analyzed well, so padding allows them to appear more centered in the patch)\n",
    "test_set_size=.2 # what percentage of the dataset should be used as a held out validation/testing set\n",
    "\n",
    "#-----Note---\n",
    "#One should likely make sure that  (nrow+mirror_pad_size) mod patch_size == 0, where nrow is the number of rows after resizing\n",
    "#so that no pixels are lost (any remainer is ignored)\n"
   ]
  },
  {
   "cell_type": "code",
   "execution_count": 2,
   "metadata": {
    "ExecuteTime": {
     "end_time": "2020-05-06T20:00:03.468331Z",
     "start_time": "2020-05-06T20:00:01.842457Z"
    }
   },
   "outputs": [
    {
     "name": "stdout",
     "output_type": "stream",
     "text": [
      "random seed (note down for reproducibility): 1589703010353157654\n"
     ]
    }
   ],
   "source": [
    "import torch\n",
    "import tables\n",
    "\n",
    "import os,sys\n",
    "import glob\n",
    "\n",
    "import PIL\n",
    "import numpy as np\n",
    "\n",
    "import cv2\n",
    "import matplotlib.pyplot as plt\n",
    "\n",
    "from sklearn import model_selection\n",
    "import sklearn.feature_extraction.image\n",
    "import random\n",
    "\n",
    "sys.path.insert(1,'/mnt/data/home/pjl54/WSI_handling')\n",
    "import wsi\n",
    "\n",
    "seed = random.randrange(sys.maxsize) #get a random seed so that we can reproducibly do the cross validation setup\n",
    "random.seed(seed) # set the seed\n",
    "print(f\"random seed (note down for reproducibility): {seed}\")"
   ]
  },
  {
   "cell_type": "code",
   "execution_count": 3,
   "metadata": {
    "ExecuteTime": {
     "end_time": "2020-05-06T20:00:03.688564Z",
     "start_time": "2020-05-06T20:00:03.678990Z"
    }
   },
   "outputs": [],
   "source": [
    "def check_for_classes(img_fname):\n",
    "    xml_fname = os.path.splitext(img_fname)[0]+'.xml'\n",
    "    if(os.path.exists(xml_fname)):\n",
    "        w = wsi.wsi(None, xml_fname = os.path.splitext(img_fname)[0]+'.xml')\n",
    "        points, map_idx = w.get_points(colors_to_use=None)\n",
    "        return len(np.unique(map_idx))>1\n",
    "    else:\n",
    "        return False"
   ]
  },
  {
   "cell_type": "code",
   "execution_count": 4,
   "metadata": {
    "ExecuteTime": {
     "end_time": "2020-05-06T20:00:04.943840Z",
     "start_time": "2020-05-06T20:00:04.937249Z"
    }
   },
   "outputs": [],
   "source": [
    "img_dtype = tables.UInt8Atom()  # dtype in which the images will be saved, this indicates that images will be saved as unsigned int 8 bit, i.e., [0,255]\n",
    "filenameAtom = tables.StringAtom(itemsize=255) #create an atom to store the filename of the image, just incase we need it later, "
   ]
  },
  {
   "cell_type": "code",
   "execution_count": null,
   "metadata": {},
   "outputs": [],
   "source": []
  },
  {
   "cell_type": "code",
   "execution_count": 5,
   "metadata": {
    "ExecuteTime": {
     "end_time": "2020-05-06T20:00:11.505486Z",
     "start_time": "2020-05-06T20:00:05.860375Z"
    }
   },
   "outputs": [],
   "source": [
    "files=glob.glob(r'/mnt/ccipd_data/UPenn_Prostate_Histology/Progressor_nonProgressorProstate/histologyImages/UPenn/*.svs')\n",
    "files = [fname for fname in files if check_for_classes(fname)]\n",
    "\n",
    "#create training and validation stages and split the files appropriately between them\n",
    "phases={}\n",
    "phases[\"train\"],phases[\"val\"]=next(iter(model_selection.ShuffleSplit(n_splits=1,test_size=test_set_size).split(files)))\n",
    "\n",
    "#specify that we'll be saving 2 different image types to the database, an image and its associated masked\n",
    "imgtypes=[\"img\",\"mask\"]"
   ]
  },
  {
   "cell_type": "code",
   "execution_count": 32,
   "metadata": {
    "ExecuteTime": {
     "end_time": "2020-05-06T20:49:33.057668Z",
     "start_time": "2020-05-06T20:47:43.475247Z"
    },
    "scrolled": false
   },
   "outputs": [
    {
     "name": "stdout",
     "output_type": "stream",
     "text": [
      "train\n",
      "/mnt/ccipd_data/UPenn_Prostate_Histology/Progressor_nonProgressorProstate/histologyImages/UPenn/20714.svs\n",
      "/mnt/ccipd_data/UPenn_Prostate_Histology/Progressor_nonProgressorProstate/histologyImages/UPenn/22221.svs\n",
      "/mnt/ccipd_data/UPenn_Prostate_Histology/Progressor_nonProgressorProstate/histologyImages/UPenn/38531.svs\n",
      "/mnt/ccipd_data/UPenn_Prostate_Histology/Progressor_nonProgressorProstate/histologyImages/UPenn/38529.svs\n",
      "/mnt/ccipd_data/UPenn_Prostate_Histology/Progressor_nonProgressorProstate/histologyImages/UPenn/22876.svs\n",
      "/mnt/ccipd_data/UPenn_Prostate_Histology/Progressor_nonProgressorProstate/histologyImages/UPenn/38530.svs\n",
      "/mnt/ccipd_data/UPenn_Prostate_Histology/Progressor_nonProgressorProstate/histologyImages/UPenn/36733.svs\n",
      "/mnt/ccipd_data/UPenn_Prostate_Histology/Progressor_nonProgressorProstate/histologyImages/UPenn/36729.svs\n",
      "/mnt/ccipd_data/UPenn_Prostate_Histology/Progressor_nonProgressorProstate/histologyImages/UPenn/36738.svs\n",
      "/mnt/ccipd_data/UPenn_Prostate_Histology/Progressor_nonProgressorProstate/histologyImages/UPenn/38515.svs\n",
      "/mnt/ccipd_data/UPenn_Prostate_Histology/Progressor_nonProgressorProstate/histologyImages/UPenn/21759.svs\n",
      "/mnt/ccipd_data/UPenn_Prostate_Histology/Progressor_nonProgressorProstate/histologyImages/UPenn/20695.svs\n",
      "/mnt/ccipd_data/UPenn_Prostate_Histology/Progressor_nonProgressorProstate/histologyImages/UPenn/38518.svs\n",
      "/mnt/ccipd_data/UPenn_Prostate_Histology/Progressor_nonProgressorProstate/histologyImages/UPenn/20704.svs\n",
      "/mnt/ccipd_data/UPenn_Prostate_Histology/Progressor_nonProgressorProstate/histologyImages/UPenn/38516.svs\n",
      "/mnt/ccipd_data/UPenn_Prostate_Histology/Progressor_nonProgressorProstate/histologyImages/UPenn/36730.svs\n",
      "/mnt/ccipd_data/UPenn_Prostate_Histology/Progressor_nonProgressorProstate/histologyImages/UPenn/36732.svs\n",
      "/mnt/ccipd_data/UPenn_Prostate_Histology/Progressor_nonProgressorProstate/histologyImages/UPenn/36725.svs\n",
      "/mnt/ccipd_data/UPenn_Prostate_Histology/Progressor_nonProgressorProstate/histologyImages/UPenn/36742.svs\n",
      "/mnt/ccipd_data/UPenn_Prostate_Histology/Progressor_nonProgressorProstate/histologyImages/UPenn/38533.svs\n",
      "/mnt/ccipd_data/UPenn_Prostate_Histology/Progressor_nonProgressorProstate/histologyImages/UPenn/38534.svs\n",
      "/mnt/ccipd_data/UPenn_Prostate_Histology/Progressor_nonProgressorProstate/histologyImages/UPenn/38514.svs\n",
      "/mnt/ccipd_data/UPenn_Prostate_Histology/Progressor_nonProgressorProstate/histologyImages/UPenn/22861.svs\n",
      "/mnt/ccipd_data/UPenn_Prostate_Histology/Progressor_nonProgressorProstate/histologyImages/UPenn/21632.svs\n",
      "/mnt/ccipd_data/UPenn_Prostate_Histology/Progressor_nonProgressorProstate/histologyImages/UPenn/36739.svs\n",
      "/mnt/ccipd_data/UPenn_Prostate_Histology/Progressor_nonProgressorProstate/histologyImages/UPenn/38536.svs\n",
      "/mnt/ccipd_data/UPenn_Prostate_Histology/Progressor_nonProgressorProstate/histologyImages/UPenn/36741.svs\n",
      "/mnt/ccipd_data/UPenn_Prostate_Histology/Progressor_nonProgressorProstate/histologyImages/UPenn/22882.svs\n",
      "/mnt/ccipd_data/UPenn_Prostate_Histology/Progressor_nonProgressorProstate/histologyImages/UPenn/22217.svs\n",
      "/mnt/ccipd_data/UPenn_Prostate_Histology/Progressor_nonProgressorProstate/histologyImages/UPenn/21753.svs\n",
      "/mnt/ccipd_data/UPenn_Prostate_Histology/Progressor_nonProgressorProstate/histologyImages/UPenn/22873.svs\n",
      "/mnt/ccipd_data/UPenn_Prostate_Histology/Progressor_nonProgressorProstate/histologyImages/UPenn/38523.svs\n",
      "/mnt/ccipd_data/UPenn_Prostate_Histology/Progressor_nonProgressorProstate/histologyImages/UPenn/22973.svs\n",
      "/mnt/ccipd_data/UPenn_Prostate_Histology/Progressor_nonProgressorProstate/histologyImages/UPenn/22982.svs\n",
      "/mnt/ccipd_data/UPenn_Prostate_Histology/Progressor_nonProgressorProstate/histologyImages/UPenn/36740.svs\n",
      "/mnt/ccipd_data/UPenn_Prostate_Histology/Progressor_nonProgressorProstate/histologyImages/UPenn/22881.svs\n",
      "/mnt/ccipd_data/UPenn_Prostate_Histology/Progressor_nonProgressorProstate/histologyImages/UPenn/36726.svs\n",
      "/mnt/ccipd_data/UPenn_Prostate_Histology/Progressor_nonProgressorProstate/histologyImages/UPenn/22878.svs\n",
      "/mnt/ccipd_data/UPenn_Prostate_Histology/Progressor_nonProgressorProstate/histologyImages/UPenn/22984.svs\n",
      "/mnt/ccipd_data/UPenn_Prostate_Histology/Progressor_nonProgressorProstate/histologyImages/UPenn/36736.svs\n",
      "/mnt/ccipd_data/UPenn_Prostate_Histology/Progressor_nonProgressorProstate/histologyImages/UPenn/36735.svs\n",
      "/mnt/ccipd_data/UPenn_Prostate_Histology/Progressor_nonProgressorProstate/histologyImages/UPenn/20700.svs\n",
      "/mnt/ccipd_data/UPenn_Prostate_Histology/Progressor_nonProgressorProstate/histologyImages/UPenn/22864.svs\n",
      "/mnt/ccipd_data/UPenn_Prostate_Histology/Progressor_nonProgressorProstate/histologyImages/UPenn/22225.svs\n",
      "/mnt/ccipd_data/UPenn_Prostate_Histology/Progressor_nonProgressorProstate/histologyImages/UPenn/38519.svs\n",
      "/mnt/ccipd_data/UPenn_Prostate_Histology/Progressor_nonProgressorProstate/histologyImages/UPenn/22862.svs\n",
      "/mnt/ccipd_data/UPenn_Prostate_Histology/Progressor_nonProgressorProstate/histologyImages/UPenn/38517.svs\n",
      "/mnt/ccipd_data/UPenn_Prostate_Histology/Progressor_nonProgressorProstate/histologyImages/UPenn/21757.svs\n",
      "/mnt/ccipd_data/UPenn_Prostate_Histology/Progressor_nonProgressorProstate/histologyImages/UPenn/38521.svs\n",
      "/mnt/ccipd_data/UPenn_Prostate_Histology/Progressor_nonProgressorProstate/histologyImages/UPenn/36723.svs\n",
      "/mnt/ccipd_data/UPenn_Prostate_Histology/Progressor_nonProgressorProstate/histologyImages/UPenn/20702.svs\n",
      "/mnt/ccipd_data/UPenn_Prostate_Histology/Progressor_nonProgressorProstate/histologyImages/UPenn/22219.svs\n",
      "/mnt/ccipd_data/UPenn_Prostate_Histology/Progressor_nonProgressorProstate/histologyImages/UPenn/38522.svs\n",
      "/mnt/ccipd_data/UPenn_Prostate_Histology/Progressor_nonProgressorProstate/histologyImages/UPenn/36727.svs\n",
      "/mnt/ccipd_data/UPenn_Prostate_Histology/Progressor_nonProgressorProstate/histologyImages/UPenn/22976.svs\n",
      "/mnt/ccipd_data/UPenn_Prostate_Histology/Progressor_nonProgressorProstate/histologyImages/UPenn/22974.svs\n",
      "/mnt/ccipd_data/UPenn_Prostate_Histology/Progressor_nonProgressorProstate/histologyImages/UPenn/20698.svs\n",
      "/mnt/ccipd_data/UPenn_Prostate_Histology/Progressor_nonProgressorProstate/histologyImages/UPenn/20693.svs\n",
      "/mnt/ccipd_data/UPenn_Prostate_Histology/Progressor_nonProgressorProstate/histologyImages/UPenn/36734.svs\n",
      "/mnt/ccipd_data/UPenn_Prostate_Histology/Progressor_nonProgressorProstate/histologyImages/UPenn/38513.svs\n",
      "/mnt/ccipd_data/UPenn_Prostate_Histology/Progressor_nonProgressorProstate/histologyImages/UPenn/22863.svs\n",
      "/mnt/ccipd_data/UPenn_Prostate_Histology/Progressor_nonProgressorProstate/histologyImages/UPenn/36731.svs\n",
      "/mnt/ccipd_data/UPenn_Prostate_Histology/Progressor_nonProgressorProstate/histologyImages/UPenn/36724.svs\n",
      "/mnt/ccipd_data/UPenn_Prostate_Histology/Progressor_nonProgressorProstate/histologyImages/UPenn/36728.svs\n",
      "val\n",
      "/mnt/ccipd_data/UPenn_Prostate_Histology/Progressor_nonProgressorProstate/histologyImages/UPenn/22980.svs\n",
      "/mnt/ccipd_data/UPenn_Prostate_Histology/Progressor_nonProgressorProstate/histologyImages/UPenn/38532.svs\n",
      "/mnt/ccipd_data/UPenn_Prostate_Histology/Progressor_nonProgressorProstate/histologyImages/UPenn/22977.svs\n",
      "/mnt/ccipd_data/UPenn_Prostate_Histology/Progressor_nonProgressorProstate/histologyImages/UPenn/22226.svs\n",
      "/mnt/ccipd_data/UPenn_Prostate_Histology/Progressor_nonProgressorProstate/histologyImages/UPenn/36737.svs\n",
      "/mnt/ccipd_data/UPenn_Prostate_Histology/Progressor_nonProgressorProstate/histologyImages/UPenn/22981.svs\n",
      "/mnt/ccipd_data/UPenn_Prostate_Histology/Progressor_nonProgressorProstate/histologyImages/UPenn/21630.svs\n",
      "/mnt/ccipd_data/UPenn_Prostate_Histology/Progressor_nonProgressorProstate/histologyImages/UPenn/38520.svs\n",
      "/mnt/ccipd_data/UPenn_Prostate_Histology/Progressor_nonProgressorProstate/histologyImages/UPenn/22985.svs\n",
      "/mnt/ccipd_data/UPenn_Prostate_Histology/Progressor_nonProgressorProstate/histologyImages/UPenn/22213.svs\n",
      "/mnt/ccipd_data/UPenn_Prostate_Histology/Progressor_nonProgressorProstate/histologyImages/UPenn/20710.svs\n",
      "/mnt/ccipd_data/UPenn_Prostate_Histology/Progressor_nonProgressorProstate/histologyImages/UPenn/20712.svs\n",
      "/mnt/ccipd_data/UPenn_Prostate_Histology/Progressor_nonProgressorProstate/histologyImages/UPenn/38524.svs\n",
      "/mnt/ccipd_data/UPenn_Prostate_Histology/Progressor_nonProgressorProstate/histologyImages/UPenn/22983.svs\n"
     ]
    },
    {
     "name": "stdout",
     "output_type": "stream",
     "text": [
      "/mnt/ccipd_data/UPenn_Prostate_Histology/Progressor_nonProgressorProstate/histologyImages/UPenn/20706.svs\n",
      "/mnt/ccipd_data/UPenn_Prostate_Histology/Progressor_nonProgressorProstate/histologyImages/UPenn/38526.svs\n"
     ]
    }
   ],
   "source": [
    "storage={} #holder for future pytables\n",
    "\n",
    "block_shape={} #block shape specifies what we'll be saving into the pytable array, here we assume that masks are 1d and images are 3d\n",
    "block_shape[\"img\"]= np.array((patch_size,patch_size,3))\n",
    "block_shape[\"mask\"]= np.array((patch_size,patch_size)) \n",
    "\n",
    "filters=tables.Filters(complevel=6, complib='zlib') #we can also specify filters, such as compression, to improve storage speed\n",
    "\n",
    "\n",
    "for phase in phases.keys(): #now for each of the phases, we'll loop through the files\n",
    "    print(phase)\n",
    "    \n",
    "    totals=np.zeros((2,len(classes))) # we can to keep counts of all the classes in for in particular training, since we \n",
    "    totals[0,:]=classes               # can later use this information to create better weights\n",
    "\n",
    "    hdf5_file = tables.open_file(f\"./{dataname}_{phase}.pytable\", mode='w') #open the respective pytable\n",
    "#     storage[\"filename\"] = hdf5_file.create_earray(hdf5_file.root, 'filename', filenameAtom, (0,)) #create the array for storage\n",
    "    \n",
    "    for imgtype in imgtypes: #for each of the image types, in this case mask and image, we need to create the associated earray\n",
    "        storage[imgtype]= hdf5_file.create_earray(hdf5_file.root, imgtype, img_dtype,  \n",
    "                                                  shape=np.append([0],block_shape[imgtype]), \n",
    "                                                  chunkshape=np.append([1],block_shape[imgtype]),\n",
    "                                                  filters=filters)\n",
    "    \n",
    "    for filei in phases[phase]: #now for each of the files\n",
    "        fname=files[filei] \n",
    "        \n",
    "        print(fname)\n",
    "        \n",
    "        wsi_img=wsi.wsi(img_fname = fname, xml_fname = os.path.splitext(fname)[0]+'.xml')    \n",
    "        \n",
    "        stride_size_converted = wsi_img.get_coord_at_mpp(stride_size,input_mpp=wsi_img[\"mpps\"][0],output_mpp=desired_mask_mpp)\n",
    "\n",
    "        [mask_small, resize_factor] = wsi_img.mask_out_annotation(desired_mpp=desired_mask_mpp,colors_to_use=(negative_class,positive_class))            \n",
    "\n",
    "        mask_small = mask_small[list(range(0,np.shape(mask_small)[0],stride_size_converted)),:]            \n",
    "        mask_small = mask_small[:,list(range(0,np.shape(mask_small)[1],stride_size_converted))]            \n",
    "\n",
    "        [rs,cs]=(mask_small>0).nonzero()\n",
    "        rs = [r*stride_size_converted for r in rs]\n",
    "        cs = [c*stride_size_converted for c in cs]\n",
    "\n",
    "        rs = [wsi_img.get_coord_at_mpp(r,wsi_img[\"mpps\"][0],desired_mask_mpp) for r in rs]\n",
    "        cs = [wsi_img.get_coord_at_mpp(c,wsi_img[\"mpps\"][0],desired_mask_mpp) for c in cs]\n",
    "\n",
    "        goods = np.ones(np.shape(rs)[0])\n",
    "        for k in range(0,np.shape(rs)[0]):\n",
    "\n",
    "            te_tile = wsi_img.get_tile(coords=(cs[k],rs[k]),wh=(3,3),desired_mpp=desired_mask_mpp)\n",
    "            \n",
    "            # check if tile has too high a fraction of white pixels, will do a full check later\n",
    "            if(np.all(te_tile>220)):\n",
    "                goods[k] = False             \n",
    "\n",
    "        rscs=(cs,rs)            \n",
    "        \n",
    "        for rcpair in rscs:\n",
    "            img = wsi_img.get_tile(desired_mpp=model_mpp,coords=(rcpair[0],rcpair[1]),wh=(patch_size,patch_size))                    \n",
    "            if((np.sum(np.mean(img,axis=2)>220)/np.size(img[:,:,1]))<0.50):\n",
    "                mask = wsi_img.mask_out_tile(desired_mpp=model_mpp,coords=(rcpair[0],rcpair[1]),wh=(patch_size,patch_size),colors_to_use=(positive_class,negative_class))                \n",
    "                \n",
    "                storage[\"img\"].append(np.expand_dims(img,0))\n",
    "                storage[\"mask\"].append(np.expand_dims(mask,0))\n",
    "#                 storage[\"filename\"].append(os.path.splitext(fname)[0])\n",
    "        \n",
    "                for i,key in enumerate(classes): #sum the number of pixels, this is done pre-resize, the but proportions don't change which is really what we're after\n",
    "                    totals[1,i]+=sum(sum(mask==key))            \n",
    "                                \n",
    "    #lastely, we should store the number of pixels\n",
    "    npixels=hdf5_file.create_carray(hdf5_file.root, 'numpixels', tables.Atom.from_dtype(totals.dtype), totals.shape)\n",
    "    npixels[:]=totals\n",
    "    hdf5_file.close()"
   ]
  },
  {
   "cell_type": "code",
   "execution_count": null,
   "metadata": {},
   "outputs": [],
   "source": [
    "for phase in phases.keys(): #now for each of the phases, we'll loop through the files\n",
    "    print(phase)\n",
    "    files = [all_files[k] for k in phases[phase]]\n",
    "\n",
    "\n",
    "    storage={} #holder for future pytables\n",
    "    rscs = [[] for i in range(0,len(files))]    \n",
    "\n",
    "    osis = [wsi.wsi(img_fname = file.split('_training_mask.tif')[0]+'.tif',mpp=0.48) for file in files]\n",
    "    masks = [wsi.wsi(img_fname=file,mpp=0.48) for file in files]\n",
    "\n",
    "    totals=np.zeros((2,len(classes))) # we can to keep counts of all the classes in for in particular training, since we \n",
    "    totals[0,:]=classes               # can later use this information to create better weights\n",
    "\n",
    "    hdf5_file = tables.open_file(f\"./{dataname}_{phase}.pytable\", mode='w') #open the respective pytable\n",
    "    storage[\"filename\"] = hdf5_file.create_earray(hdf5_file.root, 'filename', filenameAtom, (0,)) #create the array for storage\n",
    "\n",
    "    for index, wsi_img in tqdm.tqdm(enumerate(osis)):\n",
    "\n",
    "        mask = masks[index]\n",
    "        stride_size_converted = mask.get_coord_at_mpp(stride_size,input_mpp=model_mpp,output_mpp=desired_mask_mpp)        \n",
    "\n",
    "        mask_small = mask.get_wsi(desired_mask_mpp)\n",
    "        mask_small = mask_small[:,:,0]\n",
    "\n",
    "        mask_small = mask_small[list(range(1,np.shape(mask_small)[0]-1,stride_size_converted)),:]            \n",
    "        mask_small = mask_small[:,list(range(1,np.shape(mask_small)[1]-1,stride_size_converted))]            \n",
    "\n",
    "        [rs,cs]=(mask_small>0).nonzero()\n",
    "        rs = [r*stride_size_converted for r in rs]\n",
    "        cs = [c*stride_size_converted for c in cs]\n",
    "\n",
    "        rs = [wsi_img.get_coord_at_mpp(r,output_mpp=wsi_img[\"mpps\"][0],input_mpp=desired_mask_mpp) for r in rs]\n",
    "        cs = [wsi_img.get_coord_at_mpp(c,output_mpp=wsi_img[\"mpps\"][0],input_mpp=desired_mask_mpp) for c in cs]\n",
    "\n",
    "#         goods = np.ones(np.shape(rs)[0])\n",
    "#         for k in range(0,np.shape(rs)[0]):\n",
    "\n",
    "#             a = wsi_img.get_tile(coords=(cs[k],rs[k]),wh=(1,1),desired_mpp=desired_mask_mpp)\n",
    "#             if(np.all(a>220)):\n",
    "#                 goods[k] = False             \n",
    "\n",
    "        rscs[index]=(cs,rs)            \n",
    "\n",
    "    patch_counts = [np.shape(k)[1] for k in rscs]        \n",
    "#     patch_counts[0] = patch_counts[0] - 1   \n",
    "    adds = [1] + patch_counts\n",
    "    adds = np.cumsum(adds)\n",
    "    storage[\"img\"] = np.ones([sum(patch_counts),patch_size,patch_size,3],dtype=np.uint8)\n",
    "    storage[\"mask\"] = np.ones([sum(patch_counts),patch_size,patch_size],dtype=np.uint8)\n",
    "\n",
    "    for index, wsi_img in tqdm.tqdm(enumerate(osis)):\n",
    "        mask_wsi = masks[index]        \n",
    "        for rcidx in range(0,patch_counts[index]-1):\n",
    "\n",
    "            mask_coords = tuple([int(mask_wsi.get_coord_at_mpp(c,input_mpp=wsi_img[\"mpps\"][0],output_mpp=mask_wsi[\"mpps\"][0])) for c in (rscs[index][0][rcidx],rscs[index][1][rcidx])])\n",
    "            mask = mask_wsi.get_tile(desired_mpp=model_mpp,coords=mask_coords,wh=(patch_size,patch_size))        \n",
    "            mask = mask[:,:,0]\n",
    "            img = wsi_img.get_tile(desired_mpp=model_mpp,coords=(rscs[index][0][rcidx],rscs[index][1][rcidx]),wh=(patch_size,patch_size))        \n",
    "\n",
    "            inpaint_mask = np.uint8(mask.copy()==0)            \n",
    "            mask = cv2.inpaint(mask,inpaint_mask,1,cv2.INPAINT_NS)\n",
    "            mask = mask-1\n",
    "\n",
    "            storage[\"img\"][rcidx + adds[index] - 1,:,:,:] = img\n",
    "            storage[\"mask\"][rcidx + adds[index] - 1,:,:] = mask        \n",
    "\n",
    "            for i,key in enumerate(classes): #sum the number of pixels, this is done pre-resize, the but proportions don't change which is really what we're after\n",
    "                    totals[1,i]+=sum(sum(mask==key))\n",
    "\n",
    "        storage[\"filename\"].append([files[index] for x in range(patch_counts[index]-1)]) #add the filename to the storage array\n",
    "\n",
    "    #lastely, we should store the number of pixels\n",
    "    npixels=hdf5_file.create_carray(hdf5_file.root, 'numpixels', tables.Atom.from_dtype(totals.dtype), totals.shape)\n",
    "    npixels[:]=totals\n",
    "    hdf5_file.close()"
   ]
  },
  {
   "cell_type": "markdown",
   "metadata": {
    "lines_to_next_cell": 2
   },
   "source": [
    "useful reference\n",
    "http://machinelearninguru.com/deep_learning/data_preparation/hdf5/hdf5.html"
   ]
  }
 ],
 "metadata": {
  "jupytext": {
   "formats": "ipynb,py:light"
  },
  "kernelspec": {
   "display_name": "Python 3",
   "language": "python",
   "name": "python3"
  },
  "language_info": {
   "codemirror_mode": {
    "name": "ipython",
    "version": 3
   },
   "file_extension": ".py",
   "mimetype": "text/x-python",
   "name": "python",
   "nbconvert_exporter": "python",
   "pygments_lexer": "ipython3",
   "version": "3.6.9"
  }
 },
 "nbformat": 4,
 "nbformat_minor": 2
}
