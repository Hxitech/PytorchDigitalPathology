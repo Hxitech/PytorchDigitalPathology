{
 "cells": [
  {
   "cell_type": "code",
   "execution_count": 1,
   "metadata": {
    "ExecuteTime": {
     "end_time": "2020-01-20T15:44:03.705363Z",
     "start_time": "2020-01-20T15:44:03.691953Z"
    }
   },
   "outputs": [],
   "source": [
    "#v3.classification\n",
    "#28/11/2018\n",
    "\n",
    "dataname=\"bladderTE\"\n",
    "ignore_index = -1 #Unet has the possibility of masking out pixels in the output image, we can specify the index value here (though not used)\n",
    "gpuid=0\n",
    "\n",
    "desired_mask_mpp = 4 # what we would like to use for finding valid regions of the mask\n",
    "model_mpp = 1 # MPP of patches to be fed into model\n",
    "test_fraction = .2\n",
    "\n",
    "positive_class = 'other'\n",
    "negative_class = 'green'\n",
    "\n",
    "use_amp = False\n",
    "\n",
    "# --- unet params\n",
    "#these parameters get fed directly into the UNET class, and more description of them can be discovered there\n",
    "n_classes= 2    #number of classes in the data mask that we'll aim to predict\n",
    "in_channels= 3  #input channel of the data, RGB = 3\n",
    "padding= True   #should levels be padded\n",
    "depth= 4       #depth of the network \n",
    "wf= 3           #wf (int): number of filters in the first layer is 2**wf, was 6\n",
    "up_mode= 'upconv' #should we simply upsample the mask, or should we try and learn an interpolation \n",
    "batch_norm = True #should we use batch normalization between the layers\n",
    "\n",
    "# --- training params\n",
    "batch_size=3\n",
    "patch_size=512\n",
    "stride_size = patch_size\n",
    "num_epochs = 500\n",
    "edge_weight = 1 #edges tend to be the most poorly segmented given how little area they occupy in the training set, this paramter boosts their values along the lines of the original UNET paper\n",
    "phases = [\"train\",\"val\"] #how many phases did we create databases for?\n",
    "validation_phases= [\"val\"] #when should we do valiation? note that validation is time consuming, so as opposed to doing for both training and validation, we do it only for vlaidation at the end of the epoch"
   ]
  },
  {
   "cell_type": "code",
   "execution_count": 2,
   "metadata": {
    "ExecuteTime": {
     "end_time": "2020-01-20T15:44:05.454773Z",
     "start_time": "2020-01-20T15:44:03.707900Z"
    }
   },
   "outputs": [
    {
     "name": "stderr",
     "output_type": "stream",
     "text": [
      "/usr/local/lib/python3.6/site-packages/tqdm/autonotebook/__init__.py:14: TqdmExperimentalWarning: Using `tqdm.autonotebook.tqdm` in notebook mode. Use `tqdm.tqdm` instead to force console mode (e.g. in jupyter console)\n",
      "  \" (e.g. in jupyter console)\", TqdmExperimentalWarning)\n"
     ]
    }
   ],
   "source": [
    "import torch\n",
    "from torch import nn\n",
    "from torch.utils.data import DataLoader\n",
    "from torchvision import transforms\n",
    "from torchvision.models import DenseNet, ResNet, SqueezeNet\n",
    "\n",
    "import torchvision.models as models\n",
    "\n",
    "import PIL\n",
    "import matplotlib.pyplot as plt\n",
    "import cv2\n",
    "\n",
    "import numpy as np\n",
    "import sys, glob\n",
    "\n",
    "from tensorboardX import SummaryWriter\n",
    "\n",
    "import scipy.ndimage \n",
    "\n",
    "import time\n",
    "import math\n",
    "import tables\n",
    "\n",
    "import random\n",
    "\n",
    "from sklearn.metrics import confusion_matrix\n",
    "from sklearn import model_selection\n",
    "\n",
    "from tqdm.autonotebook import tqdm\n",
    "from unet import UNet\n",
    "\n",
    "import os\n",
    "    \n",
    "#os.environ['PATH'] = 'C:\\\\research\\\\openslide\\\\bin' + ';' + os.environ['PATH'] #can either specify openslide bin path in PATH, or add it dynamically\n",
    "import openslide\n",
    "sys.path.insert(1,'/mnt/data/home/pjl54/WSI_handling')\n",
    "import wsi\n",
    "\n",
    "import albumentations as albu\n",
    "from albumentations.pytorch import ToTensor\n",
    "\n",
    "from apex import amp"
   ]
  },
  {
   "cell_type": "code",
   "execution_count": 3,
   "metadata": {
    "ExecuteTime": {
     "end_time": "2020-01-20T15:44:05.462359Z",
     "start_time": "2020-01-20T15:44:05.457589Z"
    }
   },
   "outputs": [],
   "source": [
    "#helper function for pretty printing of current time and remaining time\n",
    "def asMinutes(s):\n",
    "    m = math.floor(s / 60)\n",
    "    s -= m * 60\n",
    "    return '%dm %ds' % (m, s)\n",
    "def timeSince(since, percent):\n",
    "    now = time.time()\n",
    "    s = now - since\n",
    "    es = s / (percent+.00001)\n",
    "    rs = es - s\n",
    "    return '%s (- %s)' % (asMinutes(s), asMinutes(rs))"
   ]
  },
  {
   "cell_type": "code",
   "execution_count": 4,
   "metadata": {
    "ExecuteTime": {
     "end_time": "2020-01-20T15:44:05.620164Z",
     "start_time": "2020-01-20T15:44:05.464576Z"
    }
   },
   "outputs": [
    {
     "name": "stdout",
     "output_type": "stream",
     "text": [
      "_CudaDeviceProperties(name='TITAN X (Pascal)', major=6, minor=1, total_memory=12189MB, multi_processor_count=28)\n"
     ]
    }
   ],
   "source": [
    "#specify if we should use a GPU (cuda) or only the CPU\n",
    "print(torch.cuda.get_device_properties(gpuid))\n",
    "torch.cuda.set_device(gpuid)\n",
    "device = torch.device(f'cuda:{gpuid}' if torch.cuda.is_available() else 'cpu')"
   ]
  },
  {
   "cell_type": "code",
   "execution_count": null,
   "metadata": {},
   "outputs": [],
   "source": []
  },
  {
   "cell_type": "code",
   "execution_count": 5,
   "metadata": {
    "ExecuteTime": {
     "end_time": "2020-01-20T15:44:09.456103Z",
     "start_time": "2020-01-20T15:44:05.623521Z"
    }
   },
   "outputs": [
    {
     "name": "stdout",
     "output_type": "stream",
     "text": [
      "total params: \t121538\n"
     ]
    }
   ],
   "source": [
    "#build the model according to the paramters specified above and copy it to the GPU. finally print out the number of trainable parameters\n",
    " \n",
    "# model = DenseNet(growth_rate=growth_rate, block_config=block_config,\n",
    "#                  num_init_features=num_init_features, \n",
    "#                  bn_size=bn_size, \n",
    "#                  drop_rate=drop_rate, \n",
    "#                  num_classes=num_classes).to(device)\n",
    "\n",
    "\n",
    "#model =  models.mobilenet_v2(pretrained=True).to(device)\n",
    "\n",
    "model = UNet(n_classes=n_classes, in_channels=in_channels, padding=padding,depth=depth,wf=wf, up_mode=up_mode, batch_norm=batch_norm).to(device)\n",
    "print(f\"total params: \\t{sum([np.prod(p.size()) for p in model.parameters()])}\")\n",
    "#model.classifier=nn.Sequential( nn.Dropout(.2), nn.Linear(1280, num_classes))\n",
    "\n",
    "# model = models.resnet50(pretrained=False)\n",
    "# model.fc = nn.Linear(2048,num_classes,bias=True)\n",
    "# model = model.to(device)\n",
    "\n",
    "\n",
    "#model = DenseNet(growth_rate=32, block_config=(6, 12, 24, 16), #these represent the default parameters\n",
    "#                 num_init_features=64, bn_size=4, drop_rate=0, num_classes=3)"
   ]
  },
  {
   "cell_type": "code",
   "execution_count": 6,
   "metadata": {
    "ExecuteTime": {
     "end_time": "2020-01-20T15:44:09.466332Z",
     "start_time": "2020-01-20T15:44:09.458586Z"
    },
    "scrolled": true
   },
   "outputs": [
    {
     "data": {
      "text/plain": [
       "UNet(\n",
       "  (down_path): ModuleList(\n",
       "    (0): UNetConvBlock(\n",
       "      (block): Sequential(\n",
       "        (0): Conv2d(3, 8, kernel_size=(3, 3), stride=(1, 1), padding=(1, 1))\n",
       "        (1): ReLU()\n",
       "        (2): BatchNorm2d(8, eps=1e-05, momentum=0.1, affine=True, track_running_stats=True)\n",
       "        (3): Conv2d(8, 8, kernel_size=(3, 3), stride=(1, 1), padding=(1, 1))\n",
       "        (4): ReLU()\n",
       "        (5): BatchNorm2d(8, eps=1e-05, momentum=0.1, affine=True, track_running_stats=True)\n",
       "      )\n",
       "    )\n",
       "    (1): UNetConvBlock(\n",
       "      (block): Sequential(\n",
       "        (0): Conv2d(8, 16, kernel_size=(3, 3), stride=(1, 1), padding=(1, 1))\n",
       "        (1): ReLU()\n",
       "        (2): BatchNorm2d(16, eps=1e-05, momentum=0.1, affine=True, track_running_stats=True)\n",
       "        (3): Conv2d(16, 16, kernel_size=(3, 3), stride=(1, 1), padding=(1, 1))\n",
       "        (4): ReLU()\n",
       "        (5): BatchNorm2d(16, eps=1e-05, momentum=0.1, affine=True, track_running_stats=True)\n",
       "      )\n",
       "    )\n",
       "    (2): UNetConvBlock(\n",
       "      (block): Sequential(\n",
       "        (0): Conv2d(16, 32, kernel_size=(3, 3), stride=(1, 1), padding=(1, 1))\n",
       "        (1): ReLU()\n",
       "        (2): BatchNorm2d(32, eps=1e-05, momentum=0.1, affine=True, track_running_stats=True)\n",
       "        (3): Conv2d(32, 32, kernel_size=(3, 3), stride=(1, 1), padding=(1, 1))\n",
       "        (4): ReLU()\n",
       "        (5): BatchNorm2d(32, eps=1e-05, momentum=0.1, affine=True, track_running_stats=True)\n",
       "      )\n",
       "    )\n",
       "    (3): UNetConvBlock(\n",
       "      (block): Sequential(\n",
       "        (0): Conv2d(32, 64, kernel_size=(3, 3), stride=(1, 1), padding=(1, 1))\n",
       "        (1): ReLU()\n",
       "        (2): BatchNorm2d(64, eps=1e-05, momentum=0.1, affine=True, track_running_stats=True)\n",
       "        (3): Conv2d(64, 64, kernel_size=(3, 3), stride=(1, 1), padding=(1, 1))\n",
       "        (4): ReLU()\n",
       "        (5): BatchNorm2d(64, eps=1e-05, momentum=0.1, affine=True, track_running_stats=True)\n",
       "      )\n",
       "    )\n",
       "  )\n",
       "  (up_path): ModuleList(\n",
       "    (0): UNetUpBlock(\n",
       "      (up): ConvTranspose2d(64, 32, kernel_size=(2, 2), stride=(2, 2))\n",
       "      (conv_block): UNetConvBlock(\n",
       "        (block): Sequential(\n",
       "          (0): Conv2d(64, 32, kernel_size=(3, 3), stride=(1, 1), padding=(1, 1))\n",
       "          (1): ReLU()\n",
       "          (2): BatchNorm2d(32, eps=1e-05, momentum=0.1, affine=True, track_running_stats=True)\n",
       "          (3): Conv2d(32, 32, kernel_size=(3, 3), stride=(1, 1), padding=(1, 1))\n",
       "          (4): ReLU()\n",
       "          (5): BatchNorm2d(32, eps=1e-05, momentum=0.1, affine=True, track_running_stats=True)\n",
       "        )\n",
       "      )\n",
       "    )\n",
       "    (1): UNetUpBlock(\n",
       "      (up): ConvTranspose2d(32, 16, kernel_size=(2, 2), stride=(2, 2))\n",
       "      (conv_block): UNetConvBlock(\n",
       "        (block): Sequential(\n",
       "          (0): Conv2d(32, 16, kernel_size=(3, 3), stride=(1, 1), padding=(1, 1))\n",
       "          (1): ReLU()\n",
       "          (2): BatchNorm2d(16, eps=1e-05, momentum=0.1, affine=True, track_running_stats=True)\n",
       "          (3): Conv2d(16, 16, kernel_size=(3, 3), stride=(1, 1), padding=(1, 1))\n",
       "          (4): ReLU()\n",
       "          (5): BatchNorm2d(16, eps=1e-05, momentum=0.1, affine=True, track_running_stats=True)\n",
       "        )\n",
       "      )\n",
       "    )\n",
       "    (2): UNetUpBlock(\n",
       "      (up): ConvTranspose2d(16, 8, kernel_size=(2, 2), stride=(2, 2))\n",
       "      (conv_block): UNetConvBlock(\n",
       "        (block): Sequential(\n",
       "          (0): Conv2d(16, 8, kernel_size=(3, 3), stride=(1, 1), padding=(1, 1))\n",
       "          (1): ReLU()\n",
       "          (2): BatchNorm2d(8, eps=1e-05, momentum=0.1, affine=True, track_running_stats=True)\n",
       "          (3): Conv2d(8, 8, kernel_size=(3, 3), stride=(1, 1), padding=(1, 1))\n",
       "          (4): ReLU()\n",
       "          (5): BatchNorm2d(8, eps=1e-05, momentum=0.1, affine=True, track_running_stats=True)\n",
       "        )\n",
       "      )\n",
       "    )\n",
       "  )\n",
       "  (last): Conv2d(8, 2, kernel_size=(1, 1), stride=(1, 1))\n",
       ")"
      ]
     },
     "execution_count": 6,
     "metadata": {},
     "output_type": "execute_result"
    }
   ],
   "source": [
    "model"
   ]
  },
  {
   "cell_type": "code",
   "execution_count": 7,
   "metadata": {
    "ExecuteTime": {
     "end_time": "2020-01-20T15:44:09.634993Z",
     "start_time": "2020-01-20T15:44:09.468471Z"
    }
   },
   "outputs": [],
   "source": [
    "def check_for_classes(img_fname):\n",
    "    xml_fname = os.path.splitext(img_fname)[0]+'.xml'\n",
    "    if(os.path.exists(xml_fname)):\n",
    "        w = wsi.wsi(None, xml_fname = os.path.splitext(img_fname)[0]+'.xml')\n",
    "        points, map_idx = w.get_points(colors_to_use=None)\n",
    "        return len(np.unique(map_idx))>1\n",
    "    else:\n",
    "        return False"
   ]
  },
  {
   "cell_type": "code",
   "execution_count": null,
   "metadata": {},
   "outputs": [],
   "source": []
  },
  {
   "cell_type": "code",
   "execution_count": 8,
   "metadata": {
    "ExecuteTime": {
     "end_time": "2020-01-20T15:44:09.796417Z",
     "start_time": "2020-01-20T15:44:09.637399Z"
    }
   },
   "outputs": [],
   "source": [
    "#this defines our dataset class which will be used by the dataloader\n",
    "class Dataset(object):\n",
    "    def __init__(self,files ,transforms=None,edge_weight=1):        \n",
    "        self.osis=[wsi.wsi(img_fname = file, xml_fname = os.path.splitext(file)[0]+'.xml') for file in tqdm(files) if os.path.exists(os.path.splitext(file)[0]+'.xml')]        \n",
    "                \n",
    "        self.transforms = transforms\n",
    "        self.edge_weight = edge_weight\n",
    "        self.rscs = [[] for i in range(0,len(self.osis))]\n",
    "        \n",
    "        for index, wsi_img in enumerate(self.osis):\n",
    "            \n",
    "            stride_size_converted = wsi_img.get_coord_at_mpp(stride_size,input_mpp=wsi_img[\"mpps\"][0],output_mpp=desired_mask_mpp)\n",
    "            \n",
    "            [mask_small, resize_factor] = wsi_img.mask_out_annotation(desired_mpp=desired_mask_mpp,colors_to_use=(negative_class,positive_class))            \n",
    "            \n",
    "            mask_small = mask_small[list(range(0,np.shape(mask_small)[0],stride_size_converted)),:]            \n",
    "            mask_small = mask_small[:,list(range(0,np.shape(mask_small)[1],stride_size_converted))]            \n",
    "            \n",
    "            [rs,cs]=(mask_small>0).nonzero()\n",
    "            rs = [r*stride_size_converted for r in rs]\n",
    "            cs = [c*stride_size_converted for c in cs]\n",
    "            \n",
    "            rs = [wsi_img.get_coord_at_mpp(r,wsi_img[\"mpps\"][0],desired_mask_mpp) for r in rs]\n",
    "            cs = [wsi_img.get_coord_at_mpp(c,wsi_img[\"mpps\"][0],desired_mask_mpp) for c in cs]\n",
    "            \n",
    "            goods = np.ones(np.shape(rs)[0])\n",
    "            for k in range(0,np.shape(rs)[0]):\n",
    "                \n",
    "                a = wsi_img.get_tile(coords=(cs[k],rs[k]),wh=(1,1),desired_mpp=desired_mask_mpp)\n",
    "                if(np.all(a>220)):\n",
    "                    goods[k] = False             \n",
    "            \n",
    "            self.rscs[index]=(cs,rs)            \n",
    "            \n",
    "        patch_counts = [np.shape(k)[1] for k in self.rscs]        \n",
    "        adds = [0] + patch_counts\n",
    "        adds = np.cumsum(adds)\n",
    "        self.imgs = np.ones([sum(patch_counts),patch_size,patch_size,3],dtype=np.uint8)\n",
    "        self.masks = np.ones([sum(patch_counts),patch_size,patch_size],dtype=np.uint8)\n",
    "            \n",
    "        for index, wsi_img in enumerate(self.osis):\n",
    "            for rcidx in range(0,patch_counts[index]-1):\n",
    "\n",
    "                mask = wsi_img.mask_out_tile(desired_mpp=model_mpp,coords=(self.rscs[index][0][rcidx],self.rscs[index][1][rcidx]),wh=(patch_size,patch_size),colors_to_use=(positive_class,negative_class))                \n",
    "                img = wsi_img.get_tile(desired_mpp=model_mpp,coords=(self.rscs[index][0][rcidx],self.rscs[index][1][rcidx]),wh=(patch_size,patch_size))        \n",
    "                \n",
    "                mask[mask==2] = 1\n",
    "                mask[mask==6] = 2\n",
    "                mask = mask - 1\n",
    "                mask[mask==255] = 0\n",
    "\n",
    "                self.imgs[rcidx + adds[index],:,:,:] = img\n",
    "                self.masks[rcidx + adds[index],:,:] = mask\n",
    "            \n",
    "            \n",
    "        self.nitems=len(self.imgs)\n",
    "        \n",
    "    def __getitem__(self, index):\n",
    "        \n",
    "        img = self.imgs[index,:,:,:]\n",
    "        mask = self.masks[index,:,:]\n",
    "        \n",
    "        \n",
    "#         tic = time.time()\n",
    "        totals=np.zeros((2,n_classes)) # we can to keep counts of all the classes in for in particular training, since we \n",
    "        totals[0,:]=[0,1]               # can later use this information to create better weights            \n",
    "        for i,key in enumerate([0,1]): #sum the number of pixels, this is done pre-resize, the but proportions don't change which is really what we're after\n",
    "            totals[1,i]+=sum(sum(mask==key))\n",
    "            \n",
    "        #the original Unet paper assignes increased weights to the edges of the annotated objects\n",
    "        #their method is more sophistocated, but this one is faster, we simply dilate the mask and \n",
    "        #highlight all the pixels which were \"added\"\n",
    "        if(self.edge_weight):\n",
    "            weight = scipy.ndimage.morphology.binary_dilation(mask==1, iterations =2) & ~(mask)\n",
    "        else: #otherwise the edge weight is all ones and thus has no affect\n",
    "            weight = np.ones(mask.shape,dtype=mask.dtype)\n",
    "        \n",
    "        \n",
    "        img_new = img\n",
    "        mask_new = mask\n",
    "        weight_new = weight.astype(np.uint8)\n",
    "        seed = random.randrange(sys.maxsize) #get a random seed so that we can reproducibly do the transofrmations\n",
    "        if self.transforms:\n",
    "            augmented = self.transforms(image=img, masks=[mask,weight])\n",
    "            img_new = augmented['image']\n",
    "            mask_new,weight_new = augmented['masks']\n",
    "                \n",
    "        return img_new, mask_new, weight_new, totals\n",
    "    \n",
    "    def __len__(self):\n",
    "        return self.nitems"
   ]
  },
  {
   "cell_type": "code",
   "execution_count": 9,
   "metadata": {
    "ExecuteTime": {
     "end_time": "2020-01-20T15:44:12.181305Z",
     "start_time": "2020-01-20T15:44:09.800783Z"
    }
   },
   "outputs": [
    {
     "name": "stdout",
     "output_type": "stream",
     "text": [
      "['/mnt/ccipd_data/UH_Bladder_Cancer_Project/Blad170830/Blad_58.tif', '/mnt/ccipd_data/UH_Bladder_Cancer_Project/Blad170830/Blad_40.tif', '/mnt/ccipd_data/UH_Bladder_Cancer_Project/Blad170830/Blad_10.tif', '/mnt/ccipd_data/UH_Bladder_Cancer_Project/Blad170830/Blad_1.tif', '/mnt/ccipd_data/UH_Bladder_Cancer_Project/Blad170830/Blad_20.tif', '/mnt/ccipd_data/UH_Bladder_Cancer_Project/Blad170830/Blad_60.tif', '/mnt/ccipd_data/UH_Bladder_Cancer_Project/Blad170830/Blad_47.tif', '/mnt/ccipd_data/UH_Bladder_Cancer_Project/Blad170830/Blad_69.tif', '/mnt/ccipd_data/UH_Bladder_Cancer_Project/Blad170830/Blad_29.tif', '/mnt/ccipd_data/UH_Bladder_Cancer_Project/Blad170830/Blad_50.tif', '/mnt/ccipd_data/UH_Bladder_Cancer_Project/Blad170830/Blad_34.tif', '/mnt/ccipd_data/UH_Bladder_Cancer_Project/Blad170830/Blad_72.tif']\n"
     ]
    }
   ],
   "source": [
    "files=glob.glob(r'/mnt/ccipd_data/UH_Bladder_Cancer_Project/Blad170830/*.tif')\n",
    "files = [fname for fname in files if check_for_classes(fname)]\n",
    "print(files)\n",
    "# files=glob.glob(r'/mnt/ccipd_data/UPenn_Prostate_Histology/Progressor_nonProgressorProstate/histologyImages/UPenn/*.svs')"
   ]
  },
  {
   "cell_type": "code",
   "execution_count": 10,
   "metadata": {
    "ExecuteTime": {
     "end_time": "2020-01-20T15:44:12.186594Z",
     "start_time": "2020-01-20T15:44:12.183783Z"
    }
   },
   "outputs": [],
   "source": [
    "# get name of image with no mask extension\n",
    "#bases=list(set([os.path.basename(f).replace(\"_training_mask.tif\",\"\") for f in files]))"
   ]
  },
  {
   "cell_type": "code",
   "execution_count": 11,
   "metadata": {
    "ExecuteTime": {
     "end_time": "2020-01-20T15:44:12.318442Z",
     "start_time": "2020-01-20T15:44:12.188727Z"
    }
   },
   "outputs": [],
   "source": [
    "#create training and validation stages and split the files appropriately between them\n",
    "phases={}\n",
    "phases[\"train\"],phases[\"val\"]=next(iter(model_selection.ShuffleSplit(n_splits=1,test_size=test_fraction).split(files)))"
   ]
  },
  {
   "cell_type": "code",
   "execution_count": 12,
   "metadata": {
    "ExecuteTime": {
     "end_time": "2020-01-20T15:44:12.497137Z",
     "start_time": "2020-01-20T15:44:12.322296Z"
    },
    "scrolled": true
   },
   "outputs": [
    {
     "name": "stdout",
     "output_type": "stream",
     "text": [
      "['/mnt/ccipd_data/UH_Bladder_Cancer_Project/Blad170830/Blad_40.tif', '/mnt/ccipd_data/UH_Bladder_Cancer_Project/Blad170830/Blad_20.tif', '/mnt/ccipd_data/UH_Bladder_Cancer_Project/Blad170830/Blad_50.tif']\n"
     ]
    }
   ],
   "source": [
    "for phase in phases.keys(): #now for each of the phases, we'll loop through the files\n",
    "    #phases[phase]=[f for f in files for b in phases[phase] if bases[b] in f  ]\n",
    "    phases[phase]=[f for f in files for b in phases[phase] if files[b] in f  ]\n",
    "    \n",
    "print(phases[\"val\"])"
   ]
  },
  {
   "cell_type": "code",
   "execution_count": 13,
   "metadata": {
    "ExecuteTime": {
     "end_time": "2020-01-20T15:44:12.660929Z",
     "start_time": "2020-01-20T15:44:12.500280Z"
    }
   },
   "outputs": [],
   "source": [
    "transforms = albu.Compose([\n",
    "        albu.VerticalFlip(p=.5),\n",
    "        albu.HorizontalFlip(p=.5),\n",
    "        albu.Rotate(p=0, border_mode=cv2.BORDER_CONSTANT,value=0), #these need to be in a reproducible order, first affine transforms and then color\"\n",
    "        albu.RandomSizedCrop((patch_size,patch_size), patch_size,patch_size,p=0.5),\n",
    "#         albu.GridDistortion(num_steps=5, distort_limit=0.3, interpolation=1, border_mode=4, value=None, mask_value=None, always_apply=False, p=0.2),\n",
    "#         albu.ElasticTransform(alpha=30, sigma=1, alpha_affine=50, interpolation=1, border_mode=4, value=None, mask_value=None, always_apply=False, approximate=True, p=0.2),\n",
    "        albu.HueSaturationValue(hue_shift_limit=20, sat_shift_limit=15, val_shift_limit=8, always_apply=False, p=0.5),\n",
    "        ToTensor()\n",
    "    ])"
   ]
  },
  {
   "cell_type": "code",
   "execution_count": 14,
   "metadata": {
    "ExecuteTime": {
     "end_time": "2020-01-20T15:44:12.888099Z",
     "start_time": "2020-01-20T15:44:12.664206Z"
    },
    "lines_to_next_cell": 0,
    "scrolled": true
   },
   "outputs": [],
   "source": [
    "# fig, ax = plt.subplots(1,5, figsize=(10,4))  # 1 row, 2 columns\n",
    "# for i in range(0,5):\n",
    "#     (img,patch_mask,patch_mask_weight,totals)=dataset[\"train\"][7]\n",
    "#     ax[i].imshow(np.moveaxis(img.numpy(),0,-1))\n",
    "    \n",
    "# fig, ax = plt.subplots(1,5, figsize=(10,4))  # 1 row, 2 columns\n",
    "# for i in range(0,5):\n",
    "#     (img,patch_mask,patch_mask_weight,totals)=dataset[\"train\"][7]\n",
    "#     ax[i].imshow(np.moveaxis(img.numpy(),0,-1))"
   ]
  },
  {
   "cell_type": "code",
   "execution_count": 15,
   "metadata": {
    "ExecuteTime": {
     "end_time": "2020-01-20T15:44:13.063105Z",
     "start_time": "2020-01-20T15:44:12.891875Z"
    },
    "lines_to_next_cell": 2
   },
   "outputs": [],
   "source": [
    "#wsi_mask = wsi.wsi('./uncorrectedMasks/pds_40_HE_training_mask.tif',mpp=0.48)\n",
    "#m = wsi_mask.get_wsi(8)\n",
    "#plt.imshow(m[:,:,0])"
   ]
  },
  {
   "cell_type": "code",
   "execution_count": 16,
   "metadata": {
    "ExecuteTime": {
     "end_time": "2020-01-20T15:45:34.830911Z",
     "start_time": "2020-01-20T15:44:13.065793Z"
    },
    "lines_to_next_cell": 2
   },
   "outputs": [
    {
     "data": {
      "application/vnd.jupyter.widget-view+json": {
       "model_id": "67bdd9a8d1304decbc99dcc6b1afe347",
       "version_major": 2,
       "version_minor": 0
      },
      "text/plain": [
       "HBox(children=(IntProgress(value=0, max=9), HTML(value='')))"
      ]
     },
     "metadata": {},
     "output_type": "display_data"
    },
    {
     "name": "stdout",
     "output_type": "stream",
     "text": [
      "\n",
      "train dataset size:\t1760\n"
     ]
    },
    {
     "data": {
      "application/vnd.jupyter.widget-view+json": {
       "model_id": "489a341ce2bf48ad91eb4799606ad6e0",
       "version_major": 2,
       "version_minor": 0
      },
      "text/plain": [
       "HBox(children=(IntProgress(value=0, max=3), HTML(value='')))"
      ]
     },
     "metadata": {},
     "output_type": "display_data"
    },
    {
     "name": "stdout",
     "output_type": "stream",
     "text": [
      "\n",
      "val dataset size:\t313\n"
     ]
    }
   ],
   "source": [
    "dataset={}\n",
    "dataLoader={}\n",
    "for phase in phases: #now for each of the phases, we're creating the dataloader\n",
    "                     #interestingly, given the batch size, i've not seen any improvements from using a num_workers>0\n",
    "    \n",
    "    dataset[phase]=Dataset(phases[phase],transforms=transforms,edge_weight=edge_weight)    \n",
    "    dataLoader[phase]=DataLoader(dataset[phase], batch_size=batch_size, \n",
    "                                shuffle=True, num_workers=batch_size,pin_memory=True) \n",
    "    print(f\"{phase} dataset size:\\t{len(dataset[phase])}\")"
   ]
  },
  {
   "cell_type": "code",
   "execution_count": 17,
   "metadata": {
    "ExecuteTime": {
     "end_time": "2020-01-20T15:45:35.541121Z",
     "start_time": "2020-01-20T15:45:34.833542Z"
    },
    "lines_to_next_cell": 0,
    "scrolled": false
   },
   "outputs": [
    {
     "name": "stdout",
     "output_type": "stream",
     "text": [
      "[[0.00000e+00 1.00000e+00]\n",
      " [1.55160e+05 1.06984e+05]]\n",
      "[0 1]\n"
     ]
    },
    {
     "data": {
      "text/plain": [
       "<matplotlib.image.AxesImage at 0x7ff1f6884780>"
      ]
     },
     "execution_count": 17,
     "metadata": {},
     "output_type": "execute_result"
    },
    {
     "data": {
      "image/png": "[encoded data removed]",
      "text/plain": [
       "<Figure size 1080x288 with 4 Axes>"
      ]
     },
     "metadata": {
      "needs_background": "light"
     },
     "output_type": "display_data"
    }
   ],
   "source": [
    "#visualize a single example to verify that it is correct\n",
    "(img,patch_mask,patch_mask_weight,totals)=dataset[\"train\"][0]\n",
    "print(totals)\n",
    "print(np.unique(patch_mask))\n",
    "fig, ax = plt.subplots(1,4, figsize=(15,4))  # 1 row, 2 columns\n",
    "\n",
    "#build output showing original patch  (after augmentation), class = 1 mask, weighting mask, overall mask (to see any ignored classes)\n",
    "ax[0].imshow(np.moveaxis(img.numpy(),0,-1))\n",
    "ax[1].imshow(patch_mask==0)\n",
    "ax[2].imshow(patch_mask==1)\n",
    "ax[3].imshow(patch_mask==2)"
   ]
  },
  {
   "cell_type": "code",
   "execution_count": 18,
   "metadata": {
    "ExecuteTime": {
     "end_time": "2020-01-20T15:45:35.548432Z",
     "start_time": "2020-01-20T15:45:35.543553Z"
    }
   },
   "outputs": [],
   "source": [
    "optim = torch.optim.Adam(model.parameters()) #adam is going to be the most robust, though perhaps not the best performing, typically a good place to start\n",
    "\n",
    "if use_amp:\n",
    "    model, optim = amp.initialize(\n",
    "       model, optim, opt_level=\"O2\", \n",
    "       keep_batchnorm_fp32=True, loss_scale=\"dynamic\"\n",
    "    )\n",
    "# optim = torch.optim.SGD(model.parameters(),\n",
    "#                           lr=.1,\n",
    "#                           momentum=0.9,\n",
    "#                           weight_decay=0.0005)"
   ]
  },
  {
   "cell_type": "code",
   "execution_count": null,
   "metadata": {
    "ExecuteTime": {
     "start_time": "2020-01-20T15:44:02.692Z"
    },
    "lines_to_next_cell": 2,
    "scrolled": false
   },
   "outputs": [
    {
     "name": "stderr",
     "output_type": "stream",
     "text": [
      "/usr/local/lib/python3.6/site-packages/torch/nn/_reduction.py:49: UserWarning: size_average and reduce args will be deprecated, please use reduction='none' instead.\n",
      "  warnings.warn(warning.format(ret))\n",
      "/usr/local/lib/python3.6/site-packages/ipykernel_launcher.py:67: RuntimeWarning: invalid value encountered in true_divide\n"
     ]
    },
    {
     "name": "stdout",
     "output_type": "stream",
     "text": [
      "0m 57s (- 472m 53s) ([1/500] 0%), train loss: 0.0742 test loss: 0.1843  **\n",
      "1m 55s (- 478m 18s) ([2/500] 0%), train loss: 0.0608 test loss: 0.1348  **\n",
      "2m 54s (- 482m 6s) ([3/500] 0%), train loss: 0.0547 test loss: 0.0605  **\n",
      "3m 54s (- 483m 10s) ([4/500] 0%), train loss: 0.0487 test loss: 0.1087\n",
      "4m 49s (- 477m 58s) ([5/500] 1%), train loss: 0.0493 test loss: 0.0571  **\n",
      "5m 46s (- 475m 44s) ([6/500] 1%), train loss: 0.0475 test loss: 0.0763\n",
      "6m 46s (- 476m 51s) ([7/500] 1%), train loss: 0.0433 test loss: 0.1265\n",
      "7m 46s (- 477m 33s) ([8/500] 1%), train loss: 0.0474 test loss: 0.0683\n",
      "8m 45s (- 477m 49s) ([9/500] 1%), train loss: 0.0428 test loss: 0.0523  **\n",
      "9m 43s (- 476m 9s) ([10/500] 2%), train loss: 0.0426 test loss: 0.0724\n"
     ]
    }
   ],
   "source": [
    "#def trainnetwork():\n",
    "writer=SummaryWriter() #open the tensorboard visualiser\n",
    "best_loss_on_test = np.Infinity\n",
    "\n",
    "start_time = time.time()\n",
    "for epoch in range(num_epochs):\n",
    "    #zero out epoch based performance variables \n",
    "    all_acc = {key: 0 for key in phases} \n",
    "    all_loss = {key: torch.zeros(0).to(device) for key in phases} #keep this on GPU for greatly improved performance\n",
    "    cmatrix = {key: np.zeros((n_classes,n_classes)) for key in phases}\n",
    "\n",
    "    for phase in phases: #iterate through both training and validation states\n",
    "\n",
    "        if phase == 'train':\n",
    "            model.train()  # Set model to training mode\n",
    "        else: #when in eval mode, we don't want parameters to be updated\n",
    "            model.eval()   # Set model to evaluate mode\n",
    "\n",
    "        for ii , (X, y, y_weight, totals_layer) in enumerate(dataLoader[phase]): #for each of the batches\n",
    "            \n",
    "            totals=np.zeros((2,n_classes)) # we can to keep counts of all the classes in for in particular training, since we \n",
    "            totals[0,:]=[0,1]               # can later use this information to create better weights            \n",
    "            for layer in range(0,totals_layer.shape[0]):\n",
    "                totals+=totals_layer[layer,:,:].numpy()\n",
    "                        \n",
    "            class_weight = totals[1,0:] #don't take ignored class into account here\n",
    "            class_weight = torch.from_numpy(1-class_weight/class_weight.sum()).type('torch.FloatTensor').to(device)\n",
    "\n",
    "            criterion = nn.CrossEntropyLoss(weight = class_weight, ignore_index = ignore_index ,reduce=False) #reduce = False makes sure we get a 2D output instead of a 1D \"summary\" value\n",
    "                        \n",
    "            X = X.to(device)  # [Nbatch, 3, H, W]\n",
    "            y_weight = y_weight.type('torch.FloatTensor').to(device)\n",
    "            y = y.type('torch.LongTensor').to(device)  # [Nbatch, H, W] with class indices (0, 1)\n",
    "\n",
    "            with torch.set_grad_enabled(phase == 'train'): #dynamically set gradient computation, in case of validation, this isn't needed\n",
    "                                                            #disabling is good practice and improves inference time\n",
    "\n",
    "                prediction = model(X)  # [N, Nclass, H, W]\n",
    "                loss_matrix = criterion(prediction, y)\n",
    "                loss = (loss_matrix * (edge_weight**y_weight)).mean() #can skip if edge weight==1\n",
    "\n",
    "                if phase==\"train\": #in case we're in train mode, need to do back propogation\n",
    "                    optim.zero_grad()\n",
    "                    \n",
    "                    if use_amp:\n",
    "                        with amp.scale_loss(loss, optim) as scaled_loss:\n",
    "                            scaled_loss.backward()\n",
    "                    else:\n",
    "                        loss.backward()\n",
    "                        \n",
    "                    optim.step()\n",
    "                    train_loss = loss\n",
    "\n",
    "\n",
    "                all_loss[phase]=torch.cat((all_loss[phase],loss.detach().view(1,-1)))\n",
    "\n",
    "                if phase in validation_phases: #if this phase is part of validation, compute confusion matrix\n",
    "                    p=prediction[:,:,:,:].detach().cpu().numpy()\n",
    "                    cpredflat=np.argmax(p,axis=1).flatten()\n",
    "                    yflat=y.cpu().numpy().flatten()\n",
    "\n",
    "                    CM = scipy.sparse.coo_matrix((np.ones(yflat.shape[0], dtype=np.int64), (yflat, cpredflat)),\n",
    "                        shape=(n_classes, n_classes), dtype=np.int64,\n",
    "                        ).toarray()\n",
    "                    cmatrix[phase]=cmatrix[phase]+CM\n",
    "\n",
    "        all_acc[phase]=(cmatrix[phase]/cmatrix[phase].sum()).trace()\n",
    "        all_loss[phase] = all_loss[phase].cpu().numpy().mean()\n",
    "\n",
    "        #save metrics to tensorboard\n",
    "        writer.add_scalar(f'{phase}/loss', all_loss[phase], epoch)\n",
    "        if phase in validation_phases:\n",
    "            writer.add_scalar(f'{phase}/acc', all_acc[phase], epoch)\n",
    "            writer.add_scalar(f'{phase}/TN', cmatrix[phase][0,0], epoch)\n",
    "            writer.add_scalar(f'{phase}/TP', cmatrix[phase][1,1], epoch)\n",
    "            writer.add_scalar(f'{phase}/FP', cmatrix[phase][0,1], epoch)\n",
    "            writer.add_scalar(f'{phase}/FN', cmatrix[phase][1,0], epoch)\n",
    "            writer.add_scalar(f'{phase}/TNR', cmatrix[phase][0,0]/(cmatrix[phase][0,0]+cmatrix[phase][0,1]), epoch)\n",
    "            writer.add_scalar(f'{phase}/TPR', cmatrix[phase][1,1]/(cmatrix[phase][1,1]+cmatrix[phase][1,0]), epoch)\n",
    "\n",
    "    print('%s ([%d/%d] %d%%), train loss: %.4f test loss: %.4f' % (timeSince(start_time, (epoch+1) / num_epochs), \n",
    "                                                 epoch+1, num_epochs ,(epoch+1) / num_epochs * 100, all_loss[\"train\"], all_loss[\"val\"]),end=\"\")    \n",
    "\n",
    "    #if current loss is the best we've seen, save model state with all variables\n",
    "    #necessary for recreation\n",
    "    if all_loss[\"val\"] < best_loss_on_test:\n",
    "        best_loss_on_test = all_loss[\"val\"]\n",
    "        print(\"  **\")\n",
    "        state = {'epoch': epoch + 1,\n",
    "         'model_dict': model.state_dict(),\n",
    "         'optim_dict': optim.state_dict(),\n",
    "         'best_loss_on_test': all_loss,\n",
    "         'n_classes': n_classes,\n",
    "         'in_channels': in_channels,\n",
    "         'padding': padding,\n",
    "         'depth': depth,\n",
    "         'wf': wf,\n",
    "         'up_mode': up_mode, 'batch_norm': batch_norm}\n",
    "\n",
    "\n",
    "        torch.save(state, f\"{dataname}_unet_best_model.pth\")\n",
    "    else:\n",
    "        print(\"\")"
   ]
  },
  {
   "cell_type": "code",
   "execution_count": null,
   "metadata": {
    "ExecuteTime": {
     "start_time": "2020-01-20T15:44:02.694Z"
    }
   },
   "outputs": [],
   "source": [
    "print(totals_layer[0,:,:])\n",
    "print(totals_layer[layer,:,:])\n",
    "print(totals+totals_layer[layer,:,:].numpy())"
   ]
  },
  {
   "cell_type": "code",
   "execution_count": null,
   "metadata": {
    "ExecuteTime": {
     "start_time": "2020-01-20T15:44:02.695Z"
    }
   },
   "outputs": [],
   "source": [
    "print(y.shape)"
   ]
  },
  {
   "cell_type": "code",
   "execution_count": null,
   "metadata": {
    "ExecuteTime": {
     "start_time": "2020-01-20T15:44:02.696Z"
    }
   },
   "outputs": [],
   "source": [
    "print(mask)\n",
    "print(sum(sum(mask==0)))\n",
    "print(sum(sum(mask==1)))"
   ]
  },
  {
   "cell_type": "code",
   "execution_count": null,
   "metadata": {
    "ExecuteTime": {
     "start_time": "2020-01-20T15:44:02.698Z"
    }
   },
   "outputs": [],
   "source": [
    "print(X[0,0,:,:])\n",
    "\n",
    "img = np.stack((X[0,0,:,:].cpu(),X[0,1,:,:].cpu(),X[0,2,:,:].cpu()),axis=2)\n",
    "print(img.shape)\n",
    "plt.imshow((img*255).astype('uint8'))"
   ]
  },
  {
   "cell_type": "code",
   "execution_count": null,
   "metadata": {
    "ExecuteTime": {
     "start_time": "2020-01-20T15:44:02.699Z"
    }
   },
   "outputs": [],
   "source": [
    "#%load_ext line_profiler\n",
    "#%lprun -f trainnetwork trainnetwork()"
   ]
  },
  {
   "cell_type": "code",
   "execution_count": null,
   "metadata": {
    "ExecuteTime": {
     "start_time": "2020-01-20T15:44:02.701Z"
    }
   },
   "outputs": [],
   "source": [
    "#At this stage, training is done...below are snippets to help with other tasks: output generation + visualization "
   ]
  },
  {
   "cell_type": "code",
   "execution_count": null,
   "metadata": {
    "ExecuteTime": {
     "start_time": "2020-01-20T15:44:02.704Z"
    }
   },
   "outputs": [],
   "source": [
    "#----- generate output\n",
    "#load best model\n",
    "checkpoint = torch.load(f\"{dataname}_unet_best_model.pth\")\n",
    "model.load_state_dict(checkpoint[\"model_dict\"])"
   ]
  },
  {
   "cell_type": "code",
   "execution_count": null,
   "metadata": {
    "ExecuteTime": {
     "start_time": "2020-01-20T15:44:02.706Z"
    }
   },
   "outputs": [],
   "source": [
    "#grab a single image from validation set\n",
    "(img, label, img_old, totals)=dataset[\"val\"][2]"
   ]
  },
  {
   "cell_type": "code",
   "execution_count": null,
   "metadata": {
    "ExecuteTime": {
     "start_time": "2020-01-20T15:44:02.707Z"
    }
   },
   "outputs": [],
   "source": [
    "#generate its output\n",
    "#%%timeit\n",
    "output=model(img[None,::].to(device))\n",
    "output=output.detach().squeeze().cpu().numpy()\n",
    "output.shape"
   ]
  },
  {
   "cell_type": "code",
   "execution_count": null,
   "metadata": {
    "ExecuteTime": {
     "start_time": "2020-01-20T15:44:02.709Z"
    }
   },
   "outputs": [],
   "source": [
    "print(output)\n",
    "print(f\"True class:{label}\")\n",
    "print(f\"Predicted class:{np.argmax(output)}\")"
   ]
  },
  {
   "cell_type": "code",
   "execution_count": null,
   "metadata": {
    "ExecuteTime": {
     "start_time": "2020-01-20T15:44:02.711Z"
    }
   },
   "outputs": [],
   "source": [
    "#look at input\n",
    "fig, ax = plt.subplots(1,2, figsize=(10,4))  # 1 row, 2 columns\n",
    "\n",
    "ax[0].imshow(np.moveaxis(img.numpy(),0,-1))\n",
    "ax[1].imshow(img_old)"
   ]
  },
  {
   "cell_type": "code",
   "execution_count": null,
   "metadata": {
    "ExecuteTime": {
     "start_time": "2020-01-20T15:44:02.713Z"
    }
   },
   "outputs": [],
   "source": [
    "#------- visualize kernels and activations"
   ]
  },
  {
   "cell_type": "code",
   "execution_count": null,
   "metadata": {
    "ExecuteTime": {
     "start_time": "2020-01-20T15:44:02.714Z"
    }
   },
   "outputs": [],
   "source": [
    "#helper function for visualization\n",
    "def plot_kernels(tensor, num_cols=8 ,cmap=\"gray\"):\n",
    "    if not len(tensor.shape)==4:\n",
    "        raise Exception(\"assumes a 4D tensor\")\n",
    "#    if not tensor.shape[1]==3:\n",
    "#        raise Exception(\"last dim needs to be 3 to plot\")\n",
    "    num_kernels = tensor.shape[0] * tensor.shape[1]\n",
    "    num_rows = 1+ num_kernels // num_cols\n",
    "    fig = plt.figure(figsize=(num_cols,num_rows))\n",
    "    i=0\n",
    "    t=tensor.data.numpy()\n",
    "    for t1 in t:\n",
    "        for t2 in t1:\n",
    "            i+=1\n",
    "            ax1 = fig.add_subplot(num_rows,num_cols,i)\n",
    "            ax1.imshow(t2 , cmap=cmap)\n",
    "            ax1.axis('off')\n",
    "            ax1.set_xticklabels([])\n",
    "            ax1.set_yticklabels([])\n",
    "\n",
    "    plt.subplots_adjust(wspace=0.1, hspace=0.1)\n",
    "    plt.show()"
   ]
  },
  {
   "cell_type": "code",
   "execution_count": null,
   "metadata": {
    "ExecuteTime": {
     "start_time": "2020-01-20T15:44:02.716Z"
    }
   },
   "outputs": [],
   "source": [
    "class LayerActivations():\n",
    "    features=None\n",
    "    def __init__(self,layer):\n",
    "        self.hook = layer.register_forward_hook(self.hook_fn)\n",
    "    def hook_fn(self,module,input,output):\n",
    "        self.features = output.cpu()\n",
    "    def remove(self):\n",
    "        self.hook.remove()"
   ]
  },
  {
   "cell_type": "code",
   "execution_count": null,
   "metadata": {
    "ExecuteTime": {
     "start_time": "2020-01-20T15:44:02.718Z"
    }
   },
   "outputs": [],
   "source": [
    "# --- visualize kernels"
   ]
  },
  {
   "cell_type": "code",
   "execution_count": null,
   "metadata": {
    "ExecuteTime": {
     "start_time": "2020-01-20T15:44:02.719Z"
    }
   },
   "outputs": [],
   "source": [
    "w=model.features.denseblock2.denselayer1.conv2\n",
    "plot_kernels(w.weight.detach().cpu()[0:5,0:5,:,:],5)"
   ]
  },
  {
   "cell_type": "code",
   "execution_count": null,
   "metadata": {
    "ExecuteTime": {
     "start_time": "2020-01-20T15:44:02.721Z"
    }
   },
   "outputs": [],
   "source": [
    "# ---- visualize activiations"
   ]
  },
  {
   "cell_type": "code",
   "execution_count": null,
   "metadata": {
    "ExecuteTime": {
     "start_time": "2020-01-20T15:44:02.722Z"
    }
   },
   "outputs": [],
   "source": [
    "dr=LayerActivations(model.features.denseblock2.denselayer1.conv2)"
   ]
  },
  {
   "cell_type": "code",
   "execution_count": null,
   "metadata": {
    "ExecuteTime": {
     "start_time": "2020-01-20T15:44:02.724Z"
    }
   },
   "outputs": [],
   "source": [
    "(img, label, img_old)=dataset[\"val\"][7]\n",
    "plt.imshow(np.moveaxis(img.numpy(),0,-1))\n",
    "output=model(img[None,::].to(device))"
   ]
  },
  {
   "cell_type": "code",
   "execution_count": null,
   "metadata": {
    "ExecuteTime": {
     "start_time": "2020-01-20T15:44:02.725Z"
    }
   },
   "outputs": [],
   "source": [
    "plot_kernels(dr.features,8,cmap=\"rainbow\")"
   ]
  },
  {
   "cell_type": "markdown",
   "metadata": {
    "lines_to_next_cell": 2
   },
   "source": [
    "# ---- Improvements:\n",
    "1 replace Adam with SGD with appropriate learning rate reduction"
   ]
  }
 ],
 "metadata": {
  "jupytext": {
   "formats": "ipynb,py:light"
  },
  "kernelspec": {
   "display_name": "Python 3",
   "language": "python",
   "name": "python3"
  },
  "language_info": {
   "codemirror_mode": {
    "name": "ipython",
    "version": 3
   },
   "file_extension": ".py",
   "mimetype": "text/x-python",
   "name": "python",
   "nbconvert_exporter": "python",
   "pygments_lexer": "ipython3",
   "version": "3.6.4"
  }
 },
 "nbformat": 4,
 "nbformat_minor": 2
}
