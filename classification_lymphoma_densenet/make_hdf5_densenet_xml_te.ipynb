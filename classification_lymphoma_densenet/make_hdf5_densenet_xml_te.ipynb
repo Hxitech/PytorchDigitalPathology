{
 "cells": [
  {
   "cell_type": "code",
   "execution_count": 1,
   "metadata": {
    "ExecuteTime": {
     "end_time": "2020-04-07T20:13:03.534181Z",
     "start_time": "2020-04-07T20:13:03.525782Z"
    },
    "lines_to_next_cell": 2
   },
   "outputs": [],
   "source": [
    "#v2\n",
    "#7/11/2018\n",
    "\n",
    "dataname=\"bladder_te_filt\"\n",
    "\n",
    "desired_mask_mpp = 16\n",
    "model_mpp = 0.5 # MPP of patches to be fed into model\n",
    "\n",
    "patch_size=256 #size of the tiles to extract and save in the database, must be >= to training size\n",
    "stride_size = patch_size\n",
    "test_set_size=.2 # what percentage of the dataset should be used as a held out validation/testing set\n",
    "resize=1 #resize input images\n",
    "class_names=[0,1] #what classes we expect to have in the data, here we have only 2 classes but we could add additional classes and/or specify an index from which we would like to ignore\n",
    "\n",
    "#-----Note---\n",
    "#One should likely make sure that  (nrow+mirror_pad_size) mod patch_size == 0, where nrow is the number of rows after resizing\n",
    "#so that no pixels are lost (any remainer is ignored)\n"
   ]
  },
  {
   "cell_type": "code",
   "execution_count": 2,
   "metadata": {
    "ExecuteTime": {
     "end_time": "2020-04-07T20:13:05.032221Z",
     "start_time": "2020-04-07T20:13:03.537828Z"
    }
   },
   "outputs": [
    {
     "name": "stdout",
     "output_type": "stream",
     "text": [
      "random seed (note down for reproducibility): 798764965297604225\n"
     ]
    }
   ],
   "source": [
    "import torch\n",
    "import tables\n",
    "\n",
    "import os,sys\n",
    "import glob\n",
    "\n",
    "import PIL\n",
    "import numpy as np\n",
    "import scipy\n",
    "\n",
    "import cv2\n",
    "import matplotlib.pyplot as plt\n",
    "\n",
    "from sklearn import model_selection\n",
    "import sklearn.feature_extraction.image\n",
    "import random\n",
    "\n",
    "sys.path.insert(1,'/mnt/data/home/pjl54/WSI_handling')\n",
    "import wsi\n",
    "\n",
    "import tqdm\n",
    "\n",
    "seed = random.randrange(sys.maxsize) #get a random seed so that we can reproducibly do the cross validation setup\n",
    "random.seed(seed) # set the seed\n",
    "print(f\"random seed (note down for reproducibility): {seed}\")"
   ]
  },
  {
   "cell_type": "code",
   "execution_count": 3,
   "metadata": {
    "ExecuteTime": {
     "end_time": "2020-04-07T20:13:07.857360Z",
     "start_time": "2020-04-07T20:13:05.035846Z"
    }
   },
   "outputs": [
    {
     "data": {
      "text/plain": [
       "UNet(\n",
       "  (down_path): ModuleList(\n",
       "    (0): UNetConvBlock(\n",
       "      (block): Sequential(\n",
       "        (0): Conv2d(3, 8, kernel_size=(3, 3), stride=(1, 1), padding=(1, 1))\n",
       "        (1): ReLU()\n",
       "        (2): BatchNorm2d(8, eps=1e-05, momentum=0.1, affine=True, track_running_stats=True)\n",
       "        (3): Conv2d(8, 8, kernel_size=(3, 3), stride=(1, 1), padding=(1, 1))\n",
       "        (4): ReLU()\n",
       "        (5): BatchNorm2d(8, eps=1e-05, momentum=0.1, affine=True, track_running_stats=True)\n",
       "      )\n",
       "    )\n",
       "    (1): UNetConvBlock(\n",
       "      (block): Sequential(\n",
       "        (0): Conv2d(8, 16, kernel_size=(3, 3), stride=(1, 1), padding=(1, 1))\n",
       "        (1): ReLU()\n",
       "        (2): BatchNorm2d(16, eps=1e-05, momentum=0.1, affine=True, track_running_stats=True)\n",
       "        (3): Conv2d(16, 16, kernel_size=(3, 3), stride=(1, 1), padding=(1, 1))\n",
       "        (4): ReLU()\n",
       "        (5): BatchNorm2d(16, eps=1e-05, momentum=0.1, affine=True, track_running_stats=True)\n",
       "      )\n",
       "    )\n",
       "    (2): UNetConvBlock(\n",
       "      (block): Sequential(\n",
       "        (0): Conv2d(16, 32, kernel_size=(3, 3), stride=(1, 1), padding=(1, 1))\n",
       "        (1): ReLU()\n",
       "        (2): BatchNorm2d(32, eps=1e-05, momentum=0.1, affine=True, track_running_stats=True)\n",
       "        (3): Conv2d(32, 32, kernel_size=(3, 3), stride=(1, 1), padding=(1, 1))\n",
       "        (4): ReLU()\n",
       "        (5): BatchNorm2d(32, eps=1e-05, momentum=0.1, affine=True, track_running_stats=True)\n",
       "      )\n",
       "    )\n",
       "    (3): UNetConvBlock(\n",
       "      (block): Sequential(\n",
       "        (0): Conv2d(32, 64, kernel_size=(3, 3), stride=(1, 1), padding=(1, 1))\n",
       "        (1): ReLU()\n",
       "        (2): BatchNorm2d(64, eps=1e-05, momentum=0.1, affine=True, track_running_stats=True)\n",
       "        (3): Conv2d(64, 64, kernel_size=(3, 3), stride=(1, 1), padding=(1, 1))\n",
       "        (4): ReLU()\n",
       "        (5): BatchNorm2d(64, eps=1e-05, momentum=0.1, affine=True, track_running_stats=True)\n",
       "      )\n",
       "    )\n",
       "  )\n",
       "  (up_path): ModuleList(\n",
       "    (0): UNetUpBlock(\n",
       "      (up): ConvTranspose2d(64, 32, kernel_size=(2, 2), stride=(2, 2))\n",
       "      (conv_block): UNetConvBlock(\n",
       "        (block): Sequential(\n",
       "          (0): Conv2d(64, 32, kernel_size=(3, 3), stride=(1, 1), padding=(1, 1))\n",
       "          (1): ReLU()\n",
       "          (2): BatchNorm2d(32, eps=1e-05, momentum=0.1, affine=True, track_running_stats=True)\n",
       "          (3): Conv2d(32, 32, kernel_size=(3, 3), stride=(1, 1), padding=(1, 1))\n",
       "          (4): ReLU()\n",
       "          (5): BatchNorm2d(32, eps=1e-05, momentum=0.1, affine=True, track_running_stats=True)\n",
       "        )\n",
       "      )\n",
       "    )\n",
       "    (1): UNetUpBlock(\n",
       "      (up): ConvTranspose2d(32, 16, kernel_size=(2, 2), stride=(2, 2))\n",
       "      (conv_block): UNetConvBlock(\n",
       "        (block): Sequential(\n",
       "          (0): Conv2d(32, 16, kernel_size=(3, 3), stride=(1, 1), padding=(1, 1))\n",
       "          (1): ReLU()\n",
       "          (2): BatchNorm2d(16, eps=1e-05, momentum=0.1, affine=True, track_running_stats=True)\n",
       "          (3): Conv2d(16, 16, kernel_size=(3, 3), stride=(1, 1), padding=(1, 1))\n",
       "          (4): ReLU()\n",
       "          (5): BatchNorm2d(16, eps=1e-05, momentum=0.1, affine=True, track_running_stats=True)\n",
       "        )\n",
       "      )\n",
       "    )\n",
       "    (2): UNetUpBlock(\n",
       "      (up): ConvTranspose2d(16, 8, kernel_size=(2, 2), stride=(2, 2))\n",
       "      (conv_block): UNetConvBlock(\n",
       "        (block): Sequential(\n",
       "          (0): Conv2d(16, 8, kernel_size=(3, 3), stride=(1, 1), padding=(1, 1))\n",
       "          (1): ReLU()\n",
       "          (2): BatchNorm2d(8, eps=1e-05, momentum=0.1, affine=True, track_running_stats=True)\n",
       "          (3): Conv2d(8, 8, kernel_size=(3, 3), stride=(1, 1), padding=(1, 1))\n",
       "          (4): ReLU()\n",
       "          (5): BatchNorm2d(8, eps=1e-05, momentum=0.1, affine=True, track_running_stats=True)\n",
       "        )\n",
       "      )\n",
       "    )\n",
       "  )\n",
       "  (last): Conv2d(8, 2, kernel_size=(1, 1), stride=(1, 1))\n",
       ")"
      ]
     },
     "execution_count": 3,
     "metadata": {},
     "output_type": "execute_result"
    }
   ],
   "source": [
    "from unet import UNet\n",
    "\n",
    "te_model = '/mnt/data/home/pjl54/bladder/bladderTE_1mpp_256p.pth'\n",
    "te_mpp = 1;\n",
    "te_device = 2\n",
    "checkpoint = torch.load(te_model, map_location=lambda storage, loc: storage) #load checkpoint to CPU and then put to device https://discuss.pytorch.org/t/saving-and-loading-torch-models-on-2-machines-with-different-number-of-gpu-devices/6666\n",
    "model = UNet(n_classes=checkpoint[\"n_classes\"], in_channels=checkpoint[\"in_channels\"],\n",
    "             padding=checkpoint[\"padding\"], depth=checkpoint[\"depth\"], wf=checkpoint[\"wf\"],\n",
    "             up_mode=checkpoint[\"up_mode\"], batch_norm=checkpoint[\"batch_norm\"]).to(te_device)\n",
    "model.load_state_dict(checkpoint[\"model_dict\"])\n",
    "model.eval()"
   ]
  },
  {
   "cell_type": "code",
   "execution_count": 4,
   "metadata": {
    "ExecuteTime": {
     "end_time": "2020-04-07T20:13:07.864454Z",
     "start_time": "2020-04-07T20:13:07.860660Z"
    }
   },
   "outputs": [],
   "source": [
    "img_dtype = tables.UInt8Atom()  # dtype in which the images will be saved, this indicates that images will be saved as unsigned int 8 bit, i.e., [0,255]\n",
    "filenameAtom = tables.StringAtom(itemsize=255) #create an atom to store the filename of the image, just incase we need it later, "
   ]
  },
  {
   "cell_type": "code",
   "execution_count": 5,
   "metadata": {
    "ExecuteTime": {
     "end_time": "2020-04-07T20:13:07.891012Z",
     "start_time": "2020-04-07T20:13:07.866752Z"
    }
   },
   "outputs": [],
   "source": [
    "grade_key = {}\n",
    "with open('/mnt/data/home/pjl54/bladder/densenet/blad_grade_key.txt') as file:\n",
    "    for line in file:\n",
    "        (patient, label) = line.split()\n",
    "        grade_key[patient] = int(label)"
   ]
  },
  {
   "cell_type": "code",
   "execution_count": 6,
   "metadata": {
    "ExecuteTime": {
     "end_time": "2020-04-07T20:13:08.068167Z",
     "start_time": "2020-04-07T20:13:07.893046Z"
    }
   },
   "outputs": [],
   "source": [
    "all_files = []\n",
    "for patient in grade_key.keys():\n",
    "    if os.path.exists('/mnt/ccipd_data/UH_Bladder_Cancer_Project/Blad170830/' + patient):\n",
    "        all_files.append('/mnt/ccipd_data/UH_Bladder_Cancer_Project/Blad170830/' + patient)\n",
    "    else:\n",
    "        all_files.append('/mnt/ccipd_data/UH_Bladder_Histology/May_2019/Ventana/' + patient)\n",
    "\n",
    "# all_files=glob.glob(r'/mnt/data/home/pjl54/pesoProstateSE/imgs/*training_mask.tif')\n",
    "\n",
    "#create training and validation stages and split the files appropriately between them\n",
    "phases={}\n",
    "phases[\"train\"],phases[\"val\"]=next(iter(model_selection.ShuffleSplit(n_splits=1,test_size=test_set_size).split(all_files)))\n",
    "\n",
    "#specify that we'll be saving 2 different image types to the database, an image and its associated masked\n",
    "imgtypes=[\"imgs\",\"labels\"]"
   ]
  },
  {
   "cell_type": "code",
   "execution_count": 7,
   "metadata": {
    "ExecuteTime": {
     "end_time": "2020-04-07T21:15:57.220049Z",
     "start_time": "2020-04-07T20:13:08.071981Z"
    },
    "scrolled": false
   },
   "outputs": [
    {
     "name": "stdout",
     "output_type": "stream",
     "text": [
      "train\n"
     ]
    },
    {
     "name": "stderr",
     "output_type": "stream",
     "text": [
      "40it [40:57, 61.44s/it] \n",
      "40it [08:27, 12.68s/it]\n"
     ]
    },
    {
     "name": "stdout",
     "output_type": "stream",
     "text": [
      "val\n"
     ]
    },
    {
     "name": "stderr",
     "output_type": "stream",
     "text": [
      "10it [10:42, 64.27s/it]\n",
      "10it [02:34, 15.50s/it]\n"
     ]
    }
   ],
   "source": [
    "storage={} #holder for future pytables\n",
    "block_shape= np.array((patch_size,patch_size,3))\n",
    "\n",
    "filters=tables.Filters(complevel=6, complib='zlib') #we can also specify filters, such as compression, to improve storage speed\n",
    "\n",
    "for phase in phases.keys(): #now for each of the phases, we'll loop through the files\n",
    "    print(phase)\n",
    "    files = [all_files[k] for k in phases[phase]]\n",
    "    \n",
    "    rscs = [[] for i in range(0,len(files))]    \n",
    "\n",
    "    osis = [wsi.wsi(img_fname = file, xml_fname = file.split('.tif')[0]+'.xml') for file in files]\n",
    "\n",
    "    totals=np.zeros(len(class_names)) # we can to keep counts of all the classes in for in particular training, since we \n",
    "\n",
    "    hdf5_file = tables.open_file(f\"./{dataname}_{phase}.pytable\", mode='w') #open the respective pytable\n",
    "    storage[\"filenames\"] = hdf5_file.create_earray(hdf5_file.root, 'filenames', filenameAtom, (0,)) #create the array for storage\n",
    "    \n",
    "    storage[\"imgs\"]= hdf5_file.create_earray(hdf5_file.root, \"imgs\", img_dtype,  \n",
    "                                                  shape=np.append([0],block_shape), \n",
    "                                                  chunkshape=np.append([1],block_shape),\n",
    "                                                  filters=filters)\n",
    "\n",
    "    storage[\"labels\"]= hdf5_file.create_earray(hdf5_file.root, \"labels\", img_dtype,  \n",
    "                                              shape=[0], \n",
    "                                              chunkshape=[1],\n",
    "                                              filters=filters)\n",
    "\n",
    "\n",
    "    for index, wsi_img in tqdm.tqdm(enumerate(osis)):        \n",
    "\n",
    "        stride_size_converted = wsi_img.get_coord_at_mpp(stride_size,input_mpp=wsi_img[\"mpps\"][0],output_mpp=desired_mask_mpp)\n",
    "\n",
    "        [mask_small, resize_factor] = wsi_img.mask_out_annotation(desired_mpp=desired_mask_mpp,colors_to_use=None)            \n",
    "\n",
    "        mask_small = mask_small[list(range(0,np.shape(mask_small)[0],stride_size_converted)),:]            \n",
    "        mask_small = mask_small[:,list(range(0,np.shape(mask_small)[1],stride_size_converted))]            \n",
    "\n",
    "        [rs,cs]=(mask_small>0).nonzero()\n",
    "        rs = [r*stride_size_converted for r in rs]\n",
    "        cs = [c*stride_size_converted for c in cs]\n",
    "\n",
    "        rs = [wsi_img.get_coord_at_mpp(r,wsi_img[\"mpps\"][0],desired_mask_mpp) for r in rs]\n",
    "        cs = [wsi_img.get_coord_at_mpp(c,wsi_img[\"mpps\"][0],desired_mask_mpp) for c in cs]\n",
    "\n",
    "        goods = np.ones(np.shape(rs)[0])\n",
    "        for k in range(0,np.shape(rs)[0]):\n",
    "\n",
    "#             a = wsi_img.get_tile(coords=(cs[k],rs[k]),wh=(1,1),desired_mpp=desired_mask_mpp)\n",
    "#             if((np.sum(a>220)/np.size(a))>0.50):                \n",
    "#                 goods[k] = False             \n",
    "#             else:                                \n",
    "            te_tile = wsi_img.get_tile(coords=(cs[k],rs[k]),wh=(int(patch_size*(te_mpp/model_mpp)),int(patch_size*(te_mpp/model_mpp))),desired_mpp=te_mpp)\n",
    "            if((np.sum(te_tile[:,:,1]>220)/np.size(te_tile[:,:,1]))>0.30):\n",
    "                goods[k] = False\n",
    "            else:    \n",
    "                arr_out_gpu = torch.from_numpy(np.expand_dims(te_tile,axis=0).transpose(0,3,1,2) / 255).type('torch.FloatTensor').to(te_device)\n",
    "                output_batch = model(arr_out_gpu)\n",
    "                output = output_batch[0,:,:,:].detach().cpu().numpy()\n",
    "                te_map = output.argmax(axis=0)==1\n",
    "\n",
    "                if((np.sum(te_map)/np.size(te_map))<0.50):                \n",
    "                    goods[k] = False\n",
    "\n",
    "        cs = [c for idx,c in enumerate(cs) if goods[idx]]\n",
    "        rs = [r for idx,r in enumerate(rs) if goods[idx]]\n",
    "        rscs[index]=(cs,rs)            \n",
    "        \n",
    "        classid = grade_key[wsi_img['img_fname'].split('/')[-1]]\n",
    "        totals[classid]+=1\n",
    "\n",
    "\n",
    "    patch_counts = [np.shape(k)[1] for k in rscs]        \n",
    "#     patch_counts[0] = patch_counts[0] - 1   \n",
    "    adds = [1] + patch_counts\n",
    "    adds = np.cumsum(adds)\n",
    "#     storage[\"img\"] = np.ones([sum(patch_counts),patch_size,patch_size,3],dtype=np.uint8)\n",
    "#     storage[\"mask\"] = np.ones([sum(patch_counts),patch_size,patch_size],dtype=np.uint8)\n",
    "\n",
    "    for index, wsi_img in tqdm.tqdm(enumerate(osis)):\n",
    "        img_label = grade_key[wsi_img['img_fname'].split('/')[-1]]\n",
    "        for rcidx in range(0,patch_counts[index]-1):            \n",
    "\n",
    "            img = wsi_img.get_tile(desired_mpp=model_mpp,coords=(rscs[index][0][rcidx],rscs[index][1][rcidx]),wh=(patch_size,patch_size))        \n",
    "\n",
    "\n",
    "            storage[\"imgs\"].append(img.reshape(-1,patch_size,patch_size,3))\n",
    "            storage[\"labels\"].append([img_label])\n",
    "\n",
    "        storage[\"filenames\"].append([files[index] for x in range(patch_counts[index]-1)]) #add the filename to the storage array\n",
    "\n",
    "    #lastely, we should store the number of pixels\n",
    "    npixels=hdf5_file.create_carray(hdf5_file.root, 'classsizes', tables.Atom.from_dtype(totals.dtype), totals.shape)\n",
    "    npixels[:]=totals\n",
    "    hdf5_file.close()"
   ]
  },
  {
   "cell_type": "code",
   "execution_count": 8,
   "metadata": {
    "ExecuteTime": {
     "end_time": "2020-04-07T21:15:58.380286Z",
     "start_time": "2020-04-07T21:15:57.223351Z"
    },
    "scrolled": true
   },
   "outputs": [
    {
     "ename": "ClosedNodeError",
     "evalue": "the node object is closed",
     "output_type": "error",
     "traceback": [
      "\u001b[0;31m---------------------------------------------------------------------------\u001b[0m",
      "\u001b[0;31mClosedNodeError\u001b[0m                           Traceback (most recent call last)",
      "\u001b[0;32m<ipython-input-8-92280bff7475>\u001b[0m in \u001b[0;36m<module>\u001b[0;34m\u001b[0m\n\u001b[1;32m      3\u001b[0m \u001b[0;32mfor\u001b[0m \u001b[0mk\u001b[0m \u001b[0;32min\u001b[0m \u001b[0mrange\u001b[0m\u001b[0;34m(\u001b[0m\u001b[0;36m1\u001b[0m\u001b[0;34m,\u001b[0m\u001b[0;36m500\u001b[0m\u001b[0;34m,\u001b[0m\u001b[0;36m50\u001b[0m\u001b[0;34m)\u001b[0m\u001b[0;34m:\u001b[0m\u001b[0;34m\u001b[0m\u001b[0;34m\u001b[0m\u001b[0m\n\u001b[1;32m      4\u001b[0m     \u001b[0mfig\u001b[0m\u001b[0;34m,\u001b[0m \u001b[0max\u001b[0m \u001b[0;34m=\u001b[0m \u001b[0mplt\u001b[0m\u001b[0;34m.\u001b[0m\u001b[0msubplots\u001b[0m\u001b[0;34m(\u001b[0m\u001b[0;36m1\u001b[0m\u001b[0;34m,\u001b[0m\u001b[0;36m3\u001b[0m\u001b[0;34m,\u001b[0m\u001b[0mfigsize\u001b[0m\u001b[0;34m=\u001b[0m\u001b[0;34m(\u001b[0m\u001b[0;36m20\u001b[0m\u001b[0;34m,\u001b[0m\u001b[0;36m20\u001b[0m\u001b[0;34m)\u001b[0m\u001b[0;34m)\u001b[0m\u001b[0;34m\u001b[0m\u001b[0;34m\u001b[0m\u001b[0m\n\u001b[0;32m----> 5\u001b[0;31m     \u001b[0max\u001b[0m\u001b[0;34m[\u001b[0m\u001b[0;36m0\u001b[0m\u001b[0;34m]\u001b[0m\u001b[0;34m.\u001b[0m\u001b[0mimshow\u001b[0m\u001b[0;34m(\u001b[0m\u001b[0mstorage\u001b[0m\u001b[0;34m[\u001b[0m\u001b[0;34m\"imgs\"\u001b[0m\u001b[0;34m]\u001b[0m\u001b[0;34m[\u001b[0m\u001b[0mk\u001b[0m\u001b[0;34m]\u001b[0m\u001b[0;34m)\u001b[0m\u001b[0;34m\u001b[0m\u001b[0;34m\u001b[0m\u001b[0m\n\u001b[0m",
      "\u001b[0;32m/usr/local/lib/python3.6/dist-packages/tables/array.py\u001b[0m in \u001b[0;36m__getitem__\u001b[0;34m(self, key)\u001b[0m\n\u001b[1;32m    651\u001b[0m         \"\"\"\n\u001b[1;32m    652\u001b[0m \u001b[0;34m\u001b[0m\u001b[0m\n\u001b[0;32m--> 653\u001b[0;31m         \u001b[0mself\u001b[0m\u001b[0;34m.\u001b[0m\u001b[0m_g_check_open\u001b[0m\u001b[0;34m(\u001b[0m\u001b[0;34m)\u001b[0m\u001b[0;34m\u001b[0m\u001b[0;34m\u001b[0m\u001b[0m\n\u001b[0m\u001b[1;32m    654\u001b[0m \u001b[0;34m\u001b[0m\u001b[0m\n\u001b[1;32m    655\u001b[0m         \u001b[0;32mtry\u001b[0m\u001b[0;34m:\u001b[0m\u001b[0;34m\u001b[0m\u001b[0;34m\u001b[0m\u001b[0m\n",
      "\u001b[0;32m/usr/local/lib/python3.6/dist-packages/tables/node.py\u001b[0m in \u001b[0;36m_g_check_open\u001b[0;34m(self)\u001b[0m\n\u001b[1;32m    340\u001b[0m \u001b[0;34m\u001b[0m\u001b[0m\n\u001b[1;32m    341\u001b[0m         \u001b[0;32mif\u001b[0m \u001b[0;32mnot\u001b[0m \u001b[0mself\u001b[0m\u001b[0;34m.\u001b[0m\u001b[0m_v_isopen\u001b[0m\u001b[0;34m:\u001b[0m\u001b[0;34m\u001b[0m\u001b[0;34m\u001b[0m\u001b[0m\n\u001b[0;32m--> 342\u001b[0;31m             \u001b[0;32mraise\u001b[0m \u001b[0mClosedNodeError\u001b[0m\u001b[0;34m(\u001b[0m\u001b[0;34m\"the node object is closed\"\u001b[0m\u001b[0;34m)\u001b[0m\u001b[0;34m\u001b[0m\u001b[0;34m\u001b[0m\u001b[0m\n\u001b[0m\u001b[1;32m    343\u001b[0m         \u001b[0;32massert\u001b[0m \u001b[0mself\u001b[0m\u001b[0;34m.\u001b[0m\u001b[0m_v_file\u001b[0m\u001b[0;34m.\u001b[0m\u001b[0misopen\u001b[0m\u001b[0;34m,\u001b[0m \u001b[0;34m\"found an open node in a closed file\"\u001b[0m\u001b[0;34m\u001b[0m\u001b[0;34m\u001b[0m\u001b[0m\n\u001b[1;32m    344\u001b[0m \u001b[0;34m\u001b[0m\u001b[0m\n",
      "\u001b[0;31mClosedNodeError\u001b[0m: the node object is closed"
     ]
    },
    {
     "data": {
      "image/png": "[encoded data removed]",
      "text/plain": [
       "<Figure size 1440x1440 with 3 Axes>"
      ]
     },
     "metadata": {
      "needs_background": "light"
     },
     "output_type": "display_data"
    }
   ],
   "source": [
    "import matplotlib.pyplot as plt\n",
    "\n",
    "for k in range(1,500,50):\n",
    "    fig, ax = plt.subplots(1,3,figsize=(20,20))\n",
    "    ax[0].imshow(storage[\"imgs\"][k])"
   ]
  },
  {
   "cell_type": "code",
   "execution_count": null,
   "metadata": {
    "ExecuteTime": {
     "end_time": "2020-04-07T21:15:58.382534Z",
     "start_time": "2020-04-07T20:13:01.543Z"
    },
    "scrolled": true
   },
   "outputs": [],
   "source": [
    "storage={} #holder for future pytables\n",
    "block_shape= np.array((patch_size,patch_size,3))\n",
    "\n",
    "filters=tables.Filters(complevel=6, complib='zlib') #we can also specify filters, such as compression, to improve storage speed\n",
    "\n",
    "for phase in phases.keys(): #now for each of the phases, we'll loop through the files\n",
    "    print(phase)\n",
    "    files = [all_files[k] for k in phases[phase]]\n",
    "    \n",
    "    rscs = [[] for i in range(0,len(files))]    \n",
    "\n",
    "    osis = [wsi.wsi(img_fname = file, xml_fname = file.split('.tif')[0]+'.xml') for file in files]\n",
    "\n",
    "    totals=np.zeros(len(class_names)) # we can to keep counts of all the classes in for in particular training, since we \n",
    "\n",
    "    for index, wsi_img in tqdm.tqdm(enumerate(osis)):        \n",
    "\n",
    "        stride_size_converted = wsi_img.get_coord_at_mpp(stride_size,input_mpp=wsi_img[\"mpps\"][0],output_mpp=desired_mask_mpp)\n",
    "\n",
    "        [mask_small, resize_factor] = wsi_img.mask_out_annotation(desired_mpp=desired_mask_mpp,colors_to_use=None)            \n",
    "\n",
    "        mask_small = mask_small[list(range(0,np.shape(mask_small)[0],stride_size_converted)),:]            \n",
    "        mask_small = mask_small[:,list(range(0,np.shape(mask_small)[1],stride_size_converted))]            \n",
    "\n",
    "        [rs,cs]=(mask_small>0).nonzero()\n",
    "        rs = [r*stride_size_converted for r in rs]\n",
    "        cs = [c*stride_size_converted for c in cs]\n",
    "\n",
    "        rs = [wsi_img.get_coord_at_mpp(r,wsi_img[\"mpps\"][0],desired_mask_mpp) for r in rs]\n",
    "        cs = [wsi_img.get_coord_at_mpp(c,wsi_img[\"mpps\"][0],desired_mask_mpp) for c in cs]\n",
    "\n",
    "        goods = np.ones(np.shape(rs)[0])\n",
    "        for k in range(0,np.shape(rs)[0]):\n",
    "\n",
    "            a = wsi_img.get_tile(coords=(cs[k],rs[k]),wh=(1,1),desired_mpp=desired_mask_mpp)\n",
    "            if(np.all(a>220)):\n",
    "                goods[k] = False             \n",
    "\n",
    "        cs = [c for idx,c in enumerate(cs) if goods[idx]]\n",
    "        rs = [r for idx,r in enumerate(rs) if goods[idx]]\n",
    "        rscs[index]=(cs,rs)            \n",
    "        \n",
    "        classid = grade_key[wsi_img['img_fname'].split('/')[-1]]\n",
    "        totals[classid]+=1\n",
    "\n",
    "\n",
    "    patch_counts = [np.shape(k)[1] for k in rscs]        \n",
    "#     patch_counts[0] = patch_counts[0] - 1   \n",
    "    adds = [1] + patch_counts\n",
    "    adds = np.cumsum(adds)\n",
    "#     storage[\"img\"] = np.ones([sum(patch_counts),patch_size,patch_size,3],dtype=np.uint8)\n",
    "#     storage[\"mask\"] = np.ones([sum(patch_counts),patch_size,patch_size],dtype=np.uint8)\n",
    "\n",
    "    for index, wsi_img in tqdm.tqdm(enumerate(osis)):\n",
    "        img_label = grade_key[wsi_img['img_fname'].split('/')[-1]]\n",
    "        for rcidx in range(0,patch_counts[index]-1,100):            \n",
    "\n",
    "            img = wsi_img.get_tile(desired_mpp=model_mpp,coords=(rscs[index][0][rcidx],rscs[index][1][rcidx]),wh=(patch_size,patch_size))        \n",
    "            print(wsi_img['img_fname'].split('/')[-1])\n",
    "            print(img_label)\n",
    "            plt.imshow(img)\n",
    "            plt.show()"
   ]
  },
  {
   "cell_type": "code",
   "execution_count": null,
   "metadata": {
    "ExecuteTime": {
     "end_time": "2020-04-07T21:15:58.383796Z",
     "start_time": "2020-04-07T20:13:01.544Z"
    },
    "scrolled": false
   },
   "outputs": [],
   "source": [
    "for index, wsi_img in tqdm.tqdm(enumerate(osis)):\n",
    "        img_label = grade_key[wsi_img['img_fname'].split('/')[-1]]\n",
    "        for rcidx in range(0,patch_counts[index]-1,100):            \n",
    "\n",
    "            img = wsi_img.get_tile(desired_mpp=model_mpp,coords=(rscs[index][0][rcidx],rscs[index][1][rcidx]),wh=(patch_size,patch_size))        \n",
    "            print(wsi_img['img_fname'].split('/')[-1])\n",
    "            print(img_label)\n",
    "            plt.imshow(img)\n",
    "            plt.show()"
   ]
  },
  {
   "cell_type": "markdown",
   "metadata": {
    "lines_to_next_cell": 2
   },
   "source": [
    "useful reference\n",
    "http://machinelearninguru.com/deep_learning/data_preparation/hdf5/hdf5.html"
   ]
  }
 ],
 "metadata": {
  "jupytext": {
   "formats": "ipynb,py:light"
  },
  "kernelspec": {
   "display_name": "Python 3",
   "language": "python",
   "name": "python3"
  },
  "language_info": {
   "codemirror_mode": {
    "name": "ipython",
    "version": 3
   },
   "file_extension": ".py",
   "mimetype": "text/x-python",
   "name": "python",
   "nbconvert_exporter": "python",
   "pygments_lexer": "ipython3",
   "version": "3.6.9"
  }
 },
 "nbformat": 4,
 "nbformat_minor": 2
}
